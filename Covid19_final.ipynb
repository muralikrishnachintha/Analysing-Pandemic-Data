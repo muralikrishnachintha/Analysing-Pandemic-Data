{
 "cells": [
  {
   "cell_type": "code",
   "execution_count": 1,
   "metadata": {},
   "outputs": [],
   "source": [
    "import pandas as pd\n",
    "import plotly.express as px\n",
    "\n",
    "import warnings\n",
    "warnings.filterwarnings('ignore')"
   ]
  },
  {
   "cell_type": "code",
   "execution_count": 2,
   "metadata": {},
   "outputs": [
    {
     "name": "stdout",
     "output_type": "stream",
     "text": [
      "(264, 91)\n"
     ]
    }
   ],
   "source": [
    "#loading the dataset \n",
    "url_confirmed = \"https://raw.githubusercontent.com/CSSEGISandData/COVID-19/master/csse_covid_19_data/csse_covid_19_time_series/time_series_covid19_confirmed_global.csv\"\n",
    "global_confirmed = pd.read_csv(url_confirmed,error_bad_lines=False)\n",
    "print(global_confirmed.shape)"
   ]
  },
  {
   "cell_type": "code",
   "execution_count": 3,
   "metadata": {},
   "outputs": [
    {
     "data": {
      "text/html": [
       "<div>\n",
       "<style scoped>\n",
       "    .dataframe tbody tr th:only-of-type {\n",
       "        vertical-align: middle;\n",
       "    }\n",
       "\n",
       "    .dataframe tbody tr th {\n",
       "        vertical-align: top;\n",
       "    }\n",
       "\n",
       "    .dataframe thead th {\n",
       "        text-align: right;\n",
       "    }\n",
       "</style>\n",
       "<table border=\"1\" class=\"dataframe\">\n",
       "  <thead>\n",
       "    <tr style=\"text-align: right;\">\n",
       "      <th></th>\n",
       "      <th>Province/State</th>\n",
       "      <th>Country/Region</th>\n",
       "      <th>Lat</th>\n",
       "      <th>Long</th>\n",
       "      <th>1/22/20</th>\n",
       "      <th>1/23/20</th>\n",
       "      <th>1/24/20</th>\n",
       "      <th>1/25/20</th>\n",
       "      <th>1/26/20</th>\n",
       "      <th>1/27/20</th>\n",
       "      <th>...</th>\n",
       "      <th>4/8/20</th>\n",
       "      <th>4/9/20</th>\n",
       "      <th>4/10/20</th>\n",
       "      <th>4/11/20</th>\n",
       "      <th>4/12/20</th>\n",
       "      <th>4/13/20</th>\n",
       "      <th>4/14/20</th>\n",
       "      <th>4/15/20</th>\n",
       "      <th>4/16/20</th>\n",
       "      <th>4/17/20</th>\n",
       "    </tr>\n",
       "  </thead>\n",
       "  <tbody>\n",
       "    <tr>\n",
       "      <td>131</td>\n",
       "      <td>NaN</td>\n",
       "      <td>India</td>\n",
       "      <td>21.0</td>\n",
       "      <td>78.0</td>\n",
       "      <td>0</td>\n",
       "      <td>0</td>\n",
       "      <td>0</td>\n",
       "      <td>0</td>\n",
       "      <td>0</td>\n",
       "      <td>0</td>\n",
       "      <td>...</td>\n",
       "      <td>5916</td>\n",
       "      <td>6725</td>\n",
       "      <td>7598</td>\n",
       "      <td>8446</td>\n",
       "      <td>9205</td>\n",
       "      <td>10453</td>\n",
       "      <td>11487</td>\n",
       "      <td>12322</td>\n",
       "      <td>13430</td>\n",
       "      <td>14352</td>\n",
       "    </tr>\n",
       "  </tbody>\n",
       "</table>\n",
       "<p>1 rows × 91 columns</p>\n",
       "</div>"
      ],
      "text/plain": [
       "    Province/State Country/Region   Lat  Long  1/22/20  1/23/20  1/24/20  \\\n",
       "131            NaN          India  21.0  78.0        0        0        0   \n",
       "\n",
       "     1/25/20  1/26/20  1/27/20  ...  4/8/20  4/9/20  4/10/20  4/11/20  \\\n",
       "131        0        0        0  ...    5916    6725     7598     8446   \n",
       "\n",
       "     4/12/20  4/13/20  4/14/20  4/15/20  4/16/20  4/17/20  \n",
       "131     9205    10453    11487    12322    13430    14352  \n",
       "\n",
       "[1 rows x 91 columns]"
      ]
     },
     "execution_count": 3,
     "metadata": {},
     "output_type": "execute_result"
    }
   ],
   "source": [
    "global_confirmed[global_confirmed['Country/Region'] == 'India']"
   ]
  },
  {
   "cell_type": "code",
   "execution_count": 4,
   "metadata": {},
   "outputs": [
    {
     "data": {
      "text/html": [
       "<div>\n",
       "<style scoped>\n",
       "    .dataframe tbody tr th:only-of-type {\n",
       "        vertical-align: middle;\n",
       "    }\n",
       "\n",
       "    .dataframe tbody tr th {\n",
       "        vertical-align: top;\n",
       "    }\n",
       "\n",
       "    .dataframe thead th {\n",
       "        text-align: right;\n",
       "    }\n",
       "</style>\n",
       "<table border=\"1\" class=\"dataframe\">\n",
       "  <thead>\n",
       "    <tr style=\"text-align: right;\">\n",
       "      <th></th>\n",
       "      <th>Province/State</th>\n",
       "      <th>Country/Region</th>\n",
       "      <th>Lat</th>\n",
       "      <th>Long</th>\n",
       "      <th>1/22/20</th>\n",
       "      <th>1/23/20</th>\n",
       "      <th>1/24/20</th>\n",
       "      <th>1/25/20</th>\n",
       "      <th>1/26/20</th>\n",
       "      <th>1/27/20</th>\n",
       "      <th>...</th>\n",
       "      <th>4/8/20</th>\n",
       "      <th>4/9/20</th>\n",
       "      <th>4/10/20</th>\n",
       "      <th>4/11/20</th>\n",
       "      <th>4/12/20</th>\n",
       "      <th>4/13/20</th>\n",
       "      <th>4/14/20</th>\n",
       "      <th>4/15/20</th>\n",
       "      <th>4/16/20</th>\n",
       "      <th>4/17/20</th>\n",
       "    </tr>\n",
       "  </thead>\n",
       "  <tbody>\n",
       "    <tr>\n",
       "      <td>0</td>\n",
       "      <td>NaN</td>\n",
       "      <td>Afghanistan</td>\n",
       "      <td>33.0000</td>\n",
       "      <td>65.0000</td>\n",
       "      <td>0</td>\n",
       "      <td>0</td>\n",
       "      <td>0</td>\n",
       "      <td>0</td>\n",
       "      <td>0</td>\n",
       "      <td>0</td>\n",
       "      <td>...</td>\n",
       "      <td>444</td>\n",
       "      <td>484</td>\n",
       "      <td>521</td>\n",
       "      <td>555</td>\n",
       "      <td>607</td>\n",
       "      <td>665</td>\n",
       "      <td>714</td>\n",
       "      <td>784</td>\n",
       "      <td>840</td>\n",
       "      <td>906</td>\n",
       "    </tr>\n",
       "    <tr>\n",
       "      <td>1</td>\n",
       "      <td>NaN</td>\n",
       "      <td>Albania</td>\n",
       "      <td>41.1533</td>\n",
       "      <td>20.1683</td>\n",
       "      <td>0</td>\n",
       "      <td>0</td>\n",
       "      <td>0</td>\n",
       "      <td>0</td>\n",
       "      <td>0</td>\n",
       "      <td>0</td>\n",
       "      <td>...</td>\n",
       "      <td>400</td>\n",
       "      <td>409</td>\n",
       "      <td>416</td>\n",
       "      <td>433</td>\n",
       "      <td>446</td>\n",
       "      <td>467</td>\n",
       "      <td>475</td>\n",
       "      <td>494</td>\n",
       "      <td>518</td>\n",
       "      <td>539</td>\n",
       "    </tr>\n",
       "    <tr>\n",
       "      <td>2</td>\n",
       "      <td>NaN</td>\n",
       "      <td>Algeria</td>\n",
       "      <td>28.0339</td>\n",
       "      <td>1.6596</td>\n",
       "      <td>0</td>\n",
       "      <td>0</td>\n",
       "      <td>0</td>\n",
       "      <td>0</td>\n",
       "      <td>0</td>\n",
       "      <td>0</td>\n",
       "      <td>...</td>\n",
       "      <td>1572</td>\n",
       "      <td>1666</td>\n",
       "      <td>1761</td>\n",
       "      <td>1825</td>\n",
       "      <td>1914</td>\n",
       "      <td>1983</td>\n",
       "      <td>2070</td>\n",
       "      <td>2160</td>\n",
       "      <td>2268</td>\n",
       "      <td>2418</td>\n",
       "    </tr>\n",
       "    <tr>\n",
       "      <td>3</td>\n",
       "      <td>NaN</td>\n",
       "      <td>Andorra</td>\n",
       "      <td>42.5063</td>\n",
       "      <td>1.5218</td>\n",
       "      <td>0</td>\n",
       "      <td>0</td>\n",
       "      <td>0</td>\n",
       "      <td>0</td>\n",
       "      <td>0</td>\n",
       "      <td>0</td>\n",
       "      <td>...</td>\n",
       "      <td>564</td>\n",
       "      <td>583</td>\n",
       "      <td>601</td>\n",
       "      <td>601</td>\n",
       "      <td>638</td>\n",
       "      <td>646</td>\n",
       "      <td>659</td>\n",
       "      <td>673</td>\n",
       "      <td>673</td>\n",
       "      <td>696</td>\n",
       "    </tr>\n",
       "    <tr>\n",
       "      <td>4</td>\n",
       "      <td>NaN</td>\n",
       "      <td>Angola</td>\n",
       "      <td>-11.2027</td>\n",
       "      <td>17.8739</td>\n",
       "      <td>0</td>\n",
       "      <td>0</td>\n",
       "      <td>0</td>\n",
       "      <td>0</td>\n",
       "      <td>0</td>\n",
       "      <td>0</td>\n",
       "      <td>...</td>\n",
       "      <td>19</td>\n",
       "      <td>19</td>\n",
       "      <td>19</td>\n",
       "      <td>19</td>\n",
       "      <td>19</td>\n",
       "      <td>19</td>\n",
       "      <td>19</td>\n",
       "      <td>19</td>\n",
       "      <td>19</td>\n",
       "      <td>19</td>\n",
       "    </tr>\n",
       "  </tbody>\n",
       "</table>\n",
       "<p>5 rows × 91 columns</p>\n",
       "</div>"
      ],
      "text/plain": [
       "  Province/State Country/Region      Lat     Long  1/22/20  1/23/20  1/24/20  \\\n",
       "0            NaN    Afghanistan  33.0000  65.0000        0        0        0   \n",
       "1            NaN        Albania  41.1533  20.1683        0        0        0   \n",
       "2            NaN        Algeria  28.0339   1.6596        0        0        0   \n",
       "3            NaN        Andorra  42.5063   1.5218        0        0        0   \n",
       "4            NaN         Angola -11.2027  17.8739        0        0        0   \n",
       "\n",
       "   1/25/20  1/26/20  1/27/20  ...  4/8/20  4/9/20  4/10/20  4/11/20  4/12/20  \\\n",
       "0        0        0        0  ...     444     484      521      555      607   \n",
       "1        0        0        0  ...     400     409      416      433      446   \n",
       "2        0        0        0  ...    1572    1666     1761     1825     1914   \n",
       "3        0        0        0  ...     564     583      601      601      638   \n",
       "4        0        0        0  ...      19      19       19       19       19   \n",
       "\n",
       "   4/13/20  4/14/20  4/15/20  4/16/20  4/17/20  \n",
       "0      665      714      784      840      906  \n",
       "1      467      475      494      518      539  \n",
       "2     1983     2070     2160     2268     2418  \n",
       "3      646      659      673      673      696  \n",
       "4       19       19       19       19       19  \n",
       "\n",
       "[5 rows x 91 columns]"
      ]
     },
     "execution_count": 4,
     "metadata": {},
     "output_type": "execute_result"
    }
   ],
   "source": [
    "global_confirmed.head()"
   ]
  },
  {
   "cell_type": "code",
   "execution_count": 5,
   "metadata": {},
   "outputs": [
    {
     "name": "stdout",
     "output_type": "stream",
     "text": [
      "(264, 91)\n"
     ]
    }
   ],
   "source": [
    "url_deaths = \"https://raw.githubusercontent.com/CSSEGISandData/COVID-19/master/csse_covid_19_data/csse_covid_19_time_series/time_series_covid19_deaths_global.csv\"\n",
    "global_deaths = pd.read_csv(url_deaths,error_bad_lines=False)\n",
    "print(global_deaths.shape)"
   ]
  },
  {
   "cell_type": "code",
   "execution_count": 6,
   "metadata": {},
   "outputs": [
    {
     "data": {
      "text/html": [
       "<div>\n",
       "<style scoped>\n",
       "    .dataframe tbody tr th:only-of-type {\n",
       "        vertical-align: middle;\n",
       "    }\n",
       "\n",
       "    .dataframe tbody tr th {\n",
       "        vertical-align: top;\n",
       "    }\n",
       "\n",
       "    .dataframe thead th {\n",
       "        text-align: right;\n",
       "    }\n",
       "</style>\n",
       "<table border=\"1\" class=\"dataframe\">\n",
       "  <thead>\n",
       "    <tr style=\"text-align: right;\">\n",
       "      <th></th>\n",
       "      <th>Province/State</th>\n",
       "      <th>Country/Region</th>\n",
       "      <th>Lat</th>\n",
       "      <th>Long</th>\n",
       "      <th>1/22/20</th>\n",
       "      <th>1/23/20</th>\n",
       "      <th>1/24/20</th>\n",
       "      <th>1/25/20</th>\n",
       "      <th>1/26/20</th>\n",
       "      <th>1/27/20</th>\n",
       "      <th>...</th>\n",
       "      <th>4/8/20</th>\n",
       "      <th>4/9/20</th>\n",
       "      <th>4/10/20</th>\n",
       "      <th>4/11/20</th>\n",
       "      <th>4/12/20</th>\n",
       "      <th>4/13/20</th>\n",
       "      <th>4/14/20</th>\n",
       "      <th>4/15/20</th>\n",
       "      <th>4/16/20</th>\n",
       "      <th>4/17/20</th>\n",
       "    </tr>\n",
       "  </thead>\n",
       "  <tbody>\n",
       "    <tr>\n",
       "      <td>0</td>\n",
       "      <td>NaN</td>\n",
       "      <td>Afghanistan</td>\n",
       "      <td>33.0000</td>\n",
       "      <td>65.0000</td>\n",
       "      <td>0</td>\n",
       "      <td>0</td>\n",
       "      <td>0</td>\n",
       "      <td>0</td>\n",
       "      <td>0</td>\n",
       "      <td>0</td>\n",
       "      <td>...</td>\n",
       "      <td>14</td>\n",
       "      <td>15</td>\n",
       "      <td>15</td>\n",
       "      <td>18</td>\n",
       "      <td>18</td>\n",
       "      <td>21</td>\n",
       "      <td>23</td>\n",
       "      <td>25</td>\n",
       "      <td>30</td>\n",
       "      <td>30</td>\n",
       "    </tr>\n",
       "    <tr>\n",
       "      <td>1</td>\n",
       "      <td>NaN</td>\n",
       "      <td>Albania</td>\n",
       "      <td>41.1533</td>\n",
       "      <td>20.1683</td>\n",
       "      <td>0</td>\n",
       "      <td>0</td>\n",
       "      <td>0</td>\n",
       "      <td>0</td>\n",
       "      <td>0</td>\n",
       "      <td>0</td>\n",
       "      <td>...</td>\n",
       "      <td>22</td>\n",
       "      <td>23</td>\n",
       "      <td>23</td>\n",
       "      <td>23</td>\n",
       "      <td>23</td>\n",
       "      <td>23</td>\n",
       "      <td>24</td>\n",
       "      <td>25</td>\n",
       "      <td>26</td>\n",
       "      <td>26</td>\n",
       "    </tr>\n",
       "    <tr>\n",
       "      <td>2</td>\n",
       "      <td>NaN</td>\n",
       "      <td>Algeria</td>\n",
       "      <td>28.0339</td>\n",
       "      <td>1.6596</td>\n",
       "      <td>0</td>\n",
       "      <td>0</td>\n",
       "      <td>0</td>\n",
       "      <td>0</td>\n",
       "      <td>0</td>\n",
       "      <td>0</td>\n",
       "      <td>...</td>\n",
       "      <td>205</td>\n",
       "      <td>235</td>\n",
       "      <td>256</td>\n",
       "      <td>275</td>\n",
       "      <td>293</td>\n",
       "      <td>313</td>\n",
       "      <td>326</td>\n",
       "      <td>336</td>\n",
       "      <td>348</td>\n",
       "      <td>364</td>\n",
       "    </tr>\n",
       "    <tr>\n",
       "      <td>3</td>\n",
       "      <td>NaN</td>\n",
       "      <td>Andorra</td>\n",
       "      <td>42.5063</td>\n",
       "      <td>1.5218</td>\n",
       "      <td>0</td>\n",
       "      <td>0</td>\n",
       "      <td>0</td>\n",
       "      <td>0</td>\n",
       "      <td>0</td>\n",
       "      <td>0</td>\n",
       "      <td>...</td>\n",
       "      <td>23</td>\n",
       "      <td>25</td>\n",
       "      <td>26</td>\n",
       "      <td>26</td>\n",
       "      <td>29</td>\n",
       "      <td>29</td>\n",
       "      <td>31</td>\n",
       "      <td>33</td>\n",
       "      <td>33</td>\n",
       "      <td>35</td>\n",
       "    </tr>\n",
       "    <tr>\n",
       "      <td>4</td>\n",
       "      <td>NaN</td>\n",
       "      <td>Angola</td>\n",
       "      <td>-11.2027</td>\n",
       "      <td>17.8739</td>\n",
       "      <td>0</td>\n",
       "      <td>0</td>\n",
       "      <td>0</td>\n",
       "      <td>0</td>\n",
       "      <td>0</td>\n",
       "      <td>0</td>\n",
       "      <td>...</td>\n",
       "      <td>2</td>\n",
       "      <td>2</td>\n",
       "      <td>2</td>\n",
       "      <td>2</td>\n",
       "      <td>2</td>\n",
       "      <td>2</td>\n",
       "      <td>2</td>\n",
       "      <td>2</td>\n",
       "      <td>2</td>\n",
       "      <td>2</td>\n",
       "    </tr>\n",
       "  </tbody>\n",
       "</table>\n",
       "<p>5 rows × 91 columns</p>\n",
       "</div>"
      ],
      "text/plain": [
       "  Province/State Country/Region      Lat     Long  1/22/20  1/23/20  1/24/20  \\\n",
       "0            NaN    Afghanistan  33.0000  65.0000        0        0        0   \n",
       "1            NaN        Albania  41.1533  20.1683        0        0        0   \n",
       "2            NaN        Algeria  28.0339   1.6596        0        0        0   \n",
       "3            NaN        Andorra  42.5063   1.5218        0        0        0   \n",
       "4            NaN         Angola -11.2027  17.8739        0        0        0   \n",
       "\n",
       "   1/25/20  1/26/20  1/27/20  ...  4/8/20  4/9/20  4/10/20  4/11/20  4/12/20  \\\n",
       "0        0        0        0  ...      14      15       15       18       18   \n",
       "1        0        0        0  ...      22      23       23       23       23   \n",
       "2        0        0        0  ...     205     235      256      275      293   \n",
       "3        0        0        0  ...      23      25       26       26       29   \n",
       "4        0        0        0  ...       2       2        2        2        2   \n",
       "\n",
       "   4/13/20  4/14/20  4/15/20  4/16/20  4/17/20  \n",
       "0       21       23       25       30       30  \n",
       "1       23       24       25       26       26  \n",
       "2      313      326      336      348      364  \n",
       "3       29       31       33       33       35  \n",
       "4        2        2        2        2        2  \n",
       "\n",
       "[5 rows x 91 columns]"
      ]
     },
     "execution_count": 6,
     "metadata": {},
     "output_type": "execute_result"
    }
   ],
   "source": [
    "global_deaths.head()"
   ]
  },
  {
   "cell_type": "code",
   "execution_count": 7,
   "metadata": {},
   "outputs": [
    {
     "data": {
      "text/html": [
       "<div>\n",
       "<style scoped>\n",
       "    .dataframe tbody tr th:only-of-type {\n",
       "        vertical-align: middle;\n",
       "    }\n",
       "\n",
       "    .dataframe tbody tr th {\n",
       "        vertical-align: top;\n",
       "    }\n",
       "\n",
       "    .dataframe thead th {\n",
       "        text-align: right;\n",
       "    }\n",
       "</style>\n",
       "<table border=\"1\" class=\"dataframe\">\n",
       "  <thead>\n",
       "    <tr style=\"text-align: right;\">\n",
       "      <th></th>\n",
       "      <th>Province/State</th>\n",
       "      <th>Country/Region</th>\n",
       "      <th>Lat</th>\n",
       "      <th>Long</th>\n",
       "      <th>1/22/20</th>\n",
       "      <th>1/23/20</th>\n",
       "      <th>1/24/20</th>\n",
       "      <th>1/25/20</th>\n",
       "      <th>1/26/20</th>\n",
       "      <th>1/27/20</th>\n",
       "      <th>...</th>\n",
       "      <th>4/8/20</th>\n",
       "      <th>4/9/20</th>\n",
       "      <th>4/10/20</th>\n",
       "      <th>4/11/20</th>\n",
       "      <th>4/12/20</th>\n",
       "      <th>4/13/20</th>\n",
       "      <th>4/14/20</th>\n",
       "      <th>4/15/20</th>\n",
       "      <th>4/16/20</th>\n",
       "      <th>4/17/20</th>\n",
       "    </tr>\n",
       "  </thead>\n",
       "  <tbody>\n",
       "    <tr>\n",
       "      <td>131</td>\n",
       "      <td>NaN</td>\n",
       "      <td>India</td>\n",
       "      <td>21.0</td>\n",
       "      <td>78.0</td>\n",
       "      <td>0</td>\n",
       "      <td>0</td>\n",
       "      <td>0</td>\n",
       "      <td>0</td>\n",
       "      <td>0</td>\n",
       "      <td>0</td>\n",
       "      <td>...</td>\n",
       "      <td>178</td>\n",
       "      <td>226</td>\n",
       "      <td>246</td>\n",
       "      <td>288</td>\n",
       "      <td>331</td>\n",
       "      <td>358</td>\n",
       "      <td>393</td>\n",
       "      <td>405</td>\n",
       "      <td>448</td>\n",
       "      <td>486</td>\n",
       "    </tr>\n",
       "  </tbody>\n",
       "</table>\n",
       "<p>1 rows × 91 columns</p>\n",
       "</div>"
      ],
      "text/plain": [
       "    Province/State Country/Region   Lat  Long  1/22/20  1/23/20  1/24/20  \\\n",
       "131            NaN          India  21.0  78.0        0        0        0   \n",
       "\n",
       "     1/25/20  1/26/20  1/27/20  ...  4/8/20  4/9/20  4/10/20  4/11/20  \\\n",
       "131        0        0        0  ...     178     226      246      288   \n",
       "\n",
       "     4/12/20  4/13/20  4/14/20  4/15/20  4/16/20  4/17/20  \n",
       "131      331      358      393      405      448      486  \n",
       "\n",
       "[1 rows x 91 columns]"
      ]
     },
     "execution_count": 7,
     "metadata": {},
     "output_type": "execute_result"
    }
   ],
   "source": [
    "global_deaths[global_deaths['Country/Region'] == 'India']"
   ]
  },
  {
   "cell_type": "code",
   "execution_count": 8,
   "metadata": {},
   "outputs": [
    {
     "name": "stdout",
     "output_type": "stream",
     "text": [
      "(22968, 6)\n"
     ]
    },
    {
     "data": {
      "text/html": [
       "<div>\n",
       "<style scoped>\n",
       "    .dataframe tbody tr th:only-of-type {\n",
       "        vertical-align: middle;\n",
       "    }\n",
       "\n",
       "    .dataframe tbody tr th {\n",
       "        vertical-align: top;\n",
       "    }\n",
       "\n",
       "    .dataframe thead th {\n",
       "        text-align: right;\n",
       "    }\n",
       "</style>\n",
       "<table border=\"1\" class=\"dataframe\">\n",
       "  <thead>\n",
       "    <tr style=\"text-align: right;\">\n",
       "      <th></th>\n",
       "      <th>Province/State</th>\n",
       "      <th>Country/Region</th>\n",
       "      <th>Lat</th>\n",
       "      <th>Long</th>\n",
       "      <th>Date</th>\n",
       "      <th>Confirmed_cases</th>\n",
       "    </tr>\n",
       "  </thead>\n",
       "  <tbody>\n",
       "    <tr>\n",
       "      <td>0</td>\n",
       "      <td>NaN</td>\n",
       "      <td>Afghanistan</td>\n",
       "      <td>33.0000</td>\n",
       "      <td>65.0000</td>\n",
       "      <td>1/22/20</td>\n",
       "      <td>0</td>\n",
       "    </tr>\n",
       "    <tr>\n",
       "      <td>1</td>\n",
       "      <td>NaN</td>\n",
       "      <td>Albania</td>\n",
       "      <td>41.1533</td>\n",
       "      <td>20.1683</td>\n",
       "      <td>1/22/20</td>\n",
       "      <td>0</td>\n",
       "    </tr>\n",
       "  </tbody>\n",
       "</table>\n",
       "</div>"
      ],
      "text/plain": [
       "  Province/State Country/Region      Lat     Long     Date  Confirmed_cases\n",
       "0            NaN    Afghanistan  33.0000  65.0000  1/22/20                0\n",
       "1            NaN        Albania  41.1533  20.1683  1/22/20                0"
      ]
     },
     "execution_count": 8,
     "metadata": {},
     "output_type": "execute_result"
    }
   ],
   "source": [
    "# To make date clms as rows\n",
    "global_confirmed = global_confirmed.melt(id_vars=[\"Province/State\",\"Country/Region\",\"Lat\",\"Long\"])\n",
    "\n",
    "global_confirmed = global_confirmed.rename({'variable':'Date','value':'Confirmed_cases'}, axis = 'columns')\n",
    "\n",
    "print(global_confirmed.shape)\n",
    "global_confirmed.head(2)"
   ]
  },
  {
   "cell_type": "code",
   "execution_count": 9,
   "metadata": {},
   "outputs": [
    {
     "name": "stdout",
     "output_type": "stream",
     "text": [
      "(22968, 6)\n"
     ]
    },
    {
     "data": {
      "text/html": [
       "<div>\n",
       "<style scoped>\n",
       "    .dataframe tbody tr th:only-of-type {\n",
       "        vertical-align: middle;\n",
       "    }\n",
       "\n",
       "    .dataframe tbody tr th {\n",
       "        vertical-align: top;\n",
       "    }\n",
       "\n",
       "    .dataframe thead th {\n",
       "        text-align: right;\n",
       "    }\n",
       "</style>\n",
       "<table border=\"1\" class=\"dataframe\">\n",
       "  <thead>\n",
       "    <tr style=\"text-align: right;\">\n",
       "      <th></th>\n",
       "      <th>Province/State</th>\n",
       "      <th>Country/Region</th>\n",
       "      <th>Lat</th>\n",
       "      <th>Long</th>\n",
       "      <th>Date</th>\n",
       "      <th>Death_cases</th>\n",
       "    </tr>\n",
       "  </thead>\n",
       "  <tbody>\n",
       "    <tr>\n",
       "      <td>0</td>\n",
       "      <td>NaN</td>\n",
       "      <td>Afghanistan</td>\n",
       "      <td>33.0000</td>\n",
       "      <td>65.0000</td>\n",
       "      <td>1/22/20</td>\n",
       "      <td>0</td>\n",
       "    </tr>\n",
       "    <tr>\n",
       "      <td>1</td>\n",
       "      <td>NaN</td>\n",
       "      <td>Albania</td>\n",
       "      <td>41.1533</td>\n",
       "      <td>20.1683</td>\n",
       "      <td>1/22/20</td>\n",
       "      <td>0</td>\n",
       "    </tr>\n",
       "  </tbody>\n",
       "</table>\n",
       "</div>"
      ],
      "text/plain": [
       "  Province/State Country/Region      Lat     Long     Date  Death_cases\n",
       "0            NaN    Afghanistan  33.0000  65.0000  1/22/20            0\n",
       "1            NaN        Albania  41.1533  20.1683  1/22/20            0"
      ]
     },
     "execution_count": 9,
     "metadata": {},
     "output_type": "execute_result"
    }
   ],
   "source": [
    "#using the melt function to unpivot the extra columns and to make analysis easier.\n",
    "global_deaths = global_deaths.melt(id_vars=[\"Province/State\",\"Country/Region\",\"Lat\",\"Long\"])\n",
    "\n",
    "global_deaths = global_deaths.rename({'variable':'Date','value':'Death_cases'}, axis = 'columns')\n",
    "\n",
    "print(global_deaths.shape)\n",
    "global_deaths.head(2)"
   ]
  },
  {
   "cell_type": "code",
   "execution_count": 10,
   "metadata": {},
   "outputs": [
    {
     "data": {
      "text/html": [
       "<div>\n",
       "<style scoped>\n",
       "    .dataframe tbody tr th:only-of-type {\n",
       "        vertical-align: middle;\n",
       "    }\n",
       "\n",
       "    .dataframe tbody tr th {\n",
       "        vertical-align: top;\n",
       "    }\n",
       "\n",
       "    .dataframe thead th {\n",
       "        text-align: right;\n",
       "    }\n",
       "</style>\n",
       "<table border=\"1\" class=\"dataframe\">\n",
       "  <thead>\n",
       "    <tr style=\"text-align: right;\">\n",
       "      <th></th>\n",
       "      <th></th>\n",
       "      <th></th>\n",
       "      <th></th>\n",
       "      <th></th>\n",
       "      <th>Confirmed_cases</th>\n",
       "      <th>Death_cases</th>\n",
       "    </tr>\n",
       "    <tr>\n",
       "      <th>Province/State</th>\n",
       "      <th>Country/Region</th>\n",
       "      <th>Lat</th>\n",
       "      <th>Long</th>\n",
       "      <th>Date</th>\n",
       "      <th></th>\n",
       "      <th></th>\n",
       "    </tr>\n",
       "  </thead>\n",
       "  <tbody>\n",
       "    <tr>\n",
       "      <td rowspan=\"3\" valign=\"top\">NaN</td>\n",
       "      <td>Afghanistan</td>\n",
       "      <td>33.0000</td>\n",
       "      <td>65.0000</td>\n",
       "      <td>1/22/20</td>\n",
       "      <td>0</td>\n",
       "      <td>0</td>\n",
       "    </tr>\n",
       "    <tr>\n",
       "      <td>Albania</td>\n",
       "      <td>41.1533</td>\n",
       "      <td>20.1683</td>\n",
       "      <td>1/22/20</td>\n",
       "      <td>0</td>\n",
       "      <td>0</td>\n",
       "    </tr>\n",
       "    <tr>\n",
       "      <td>Algeria</td>\n",
       "      <td>28.0339</td>\n",
       "      <td>1.6596</td>\n",
       "      <td>1/22/20</td>\n",
       "      <td>0</td>\n",
       "      <td>0</td>\n",
       "    </tr>\n",
       "  </tbody>\n",
       "</table>\n",
       "</div>"
      ],
      "text/plain": [
       "                                                       Confirmed_cases  \\\n",
       "Province/State Country/Region Lat     Long    Date                       \n",
       "NaN            Afghanistan    33.0000 65.0000 1/22/20                0   \n",
       "               Albania        41.1533 20.1683 1/22/20                0   \n",
       "               Algeria        28.0339 1.6596  1/22/20                0   \n",
       "\n",
       "                                                       Death_cases  \n",
       "Province/State Country/Region Lat     Long    Date                  \n",
       "NaN            Afghanistan    33.0000 65.0000 1/22/20            0  \n",
       "               Albania        41.1533 20.1683 1/22/20            0  \n",
       "               Algeria        28.0339 1.6596  1/22/20            0  "
      ]
     },
     "execution_count": 10,
     "metadata": {},
     "output_type": "execute_result"
    }
   ],
   "source": [
    "#combining both dataframes\n",
    "combined_df = [global_confirmed,global_deaths]\n",
    "combined_df = [df.set_index(['Province/State','Country/Region','Lat','Long','Date']) for df in combined_df]\n",
    "combined_df = combined_df[0].join(combined_df[1:])\n",
    "combined_df.head(3)"
   ]
  },
  {
   "cell_type": "code",
   "execution_count": 15,
   "metadata": {},
   "outputs": [],
   "source": [
    "combined_df = combined_df.reset_index()"
   ]
  },
  {
   "cell_type": "code",
   "execution_count": 16,
   "metadata": {},
   "outputs": [],
   "source": [
    "#converting the columns of the dataframe into correct data types.\n",
    "combined_df[['Lat','Long','Confirmed_cases','Death_cases']] = combined_df[['Lat','Long','Confirmed_cases','Death_cases']].apply(pd.to_numeric)\n",
    "combined_df[['Date']] = combined_df[['Date']].apply(pd.to_datetime)"
   ]
  },
  {
   "cell_type": "code",
   "execution_count": 17,
   "metadata": {},
   "outputs": [
    {
     "data": {
      "text/html": [
       "<div>\n",
       "<style scoped>\n",
       "    .dataframe tbody tr th:only-of-type {\n",
       "        vertical-align: middle;\n",
       "    }\n",
       "\n",
       "    .dataframe tbody tr th {\n",
       "        vertical-align: top;\n",
       "    }\n",
       "\n",
       "    .dataframe thead th {\n",
       "        text-align: right;\n",
       "    }\n",
       "</style>\n",
       "<table border=\"1\" class=\"dataframe\">\n",
       "  <thead>\n",
       "    <tr style=\"text-align: right;\">\n",
       "      <th></th>\n",
       "      <th>State</th>\n",
       "      <th>Country</th>\n",
       "      <th>Lat</th>\n",
       "      <th>Long</th>\n",
       "      <th>Date</th>\n",
       "      <th>Confirmed_cases</th>\n",
       "      <th>Death_cases</th>\n",
       "    </tr>\n",
       "  </thead>\n",
       "  <tbody>\n",
       "    <tr>\n",
       "      <td>0</td>\n",
       "      <td>NaN</td>\n",
       "      <td>Afghanistan</td>\n",
       "      <td>33.0000</td>\n",
       "      <td>65.0000</td>\n",
       "      <td>2020-01-22</td>\n",
       "      <td>0</td>\n",
       "      <td>0</td>\n",
       "    </tr>\n",
       "    <tr>\n",
       "      <td>1</td>\n",
       "      <td>NaN</td>\n",
       "      <td>Albania</td>\n",
       "      <td>41.1533</td>\n",
       "      <td>20.1683</td>\n",
       "      <td>2020-01-22</td>\n",
       "      <td>0</td>\n",
       "      <td>0</td>\n",
       "    </tr>\n",
       "    <tr>\n",
       "      <td>2</td>\n",
       "      <td>NaN</td>\n",
       "      <td>Algeria</td>\n",
       "      <td>28.0339</td>\n",
       "      <td>1.6596</td>\n",
       "      <td>2020-01-22</td>\n",
       "      <td>0</td>\n",
       "      <td>0</td>\n",
       "    </tr>\n",
       "  </tbody>\n",
       "</table>\n",
       "</div>"
      ],
      "text/plain": [
       "  State      Country      Lat     Long       Date  Confirmed_cases  \\\n",
       "0   NaN  Afghanistan  33.0000  65.0000 2020-01-22                0   \n",
       "1   NaN      Albania  41.1533  20.1683 2020-01-22                0   \n",
       "2   NaN      Algeria  28.0339   1.6596 2020-01-22                0   \n",
       "\n",
       "   Death_cases  \n",
       "0            0  \n",
       "1            0  \n",
       "2            0  "
      ]
     },
     "execution_count": 17,
     "metadata": {},
     "output_type": "execute_result"
    }
   ],
   "source": [
    "combined_df = combined_df.rename({'Province/State':'State','Country/Region':'Country'}, axis = 'columns')\n",
    "combined_df.head(3)"
   ]
  },
  {
   "cell_type": "code",
   "execution_count": 21,
   "metadata": {},
   "outputs": [],
   "source": [
    "new_df=pd.DataFrame(columns = ['Country', 'Confirmed Cases','Death Cases'])"
   ]
  },
  {
   "cell_type": "code",
   "execution_count": 22,
   "metadata": {},
   "outputs": [
    {
     "data": {
      "text/html": [
       "<div>\n",
       "<style scoped>\n",
       "    .dataframe tbody tr th:only-of-type {\n",
       "        vertical-align: middle;\n",
       "    }\n",
       "\n",
       "    .dataframe tbody tr th {\n",
       "        vertical-align: top;\n",
       "    }\n",
       "\n",
       "    .dataframe thead th {\n",
       "        text-align: right;\n",
       "    }\n",
       "</style>\n",
       "<table border=\"1\" class=\"dataframe\">\n",
       "  <thead>\n",
       "    <tr style=\"text-align: right;\">\n",
       "      <th></th>\n",
       "      <th>Country</th>\n",
       "      <th>Confirmed Cases</th>\n",
       "      <th>Death Cases</th>\n",
       "    </tr>\n",
       "  </thead>\n",
       "  <tbody>\n",
       "  </tbody>\n",
       "</table>\n",
       "</div>"
      ],
      "text/plain": [
       "Empty DataFrame\n",
       "Columns: [Country, Confirmed Cases, Death Cases]\n",
       "Index: []"
      ]
     },
     "execution_count": 22,
     "metadata": {},
     "output_type": "execute_result"
    }
   ],
   "source": [
    "new_df"
   ]
  },
  {
   "cell_type": "code",
   "execution_count": 23,
   "metadata": {},
   "outputs": [],
   "source": [
    "new_df['Country'] = combined_df['Country'].unique() "
   ]
  },
  {
   "cell_type": "code",
   "execution_count": 24,
   "metadata": {},
   "outputs": [],
   "source": [
    "unique_country_list=[]\n",
    "unique_country_list=combined_df['Country'].unique() \n",
    "date = '2020-04-17'"
   ]
  },
  {
   "cell_type": "code",
   "execution_count": 25,
   "metadata": {},
   "outputs": [
    {
     "name": "stdout",
     "output_type": "stream",
     "text": [
      "Afghanistan\n",
      "      State      Country   Lat  Long       Date  Confirmed_cases  Death_cases\n",
      "22704   NaN  Afghanistan  33.0  65.0 2020-04-17              906           30\n",
      "906\n",
      "Albania\n",
      "      State  Country      Lat     Long       Date  Confirmed_cases  \\\n",
      "22705   NaN  Albania  41.1533  20.1683 2020-04-17              539   \n",
      "\n",
      "       Death_cases  \n",
      "22705           26  \n",
      "539\n",
      "Algeria\n",
      "      State  Country      Lat    Long       Date  Confirmed_cases  Death_cases\n",
      "22706   NaN  Algeria  28.0339  1.6596 2020-04-17             2418          364\n",
      "2418\n",
      "Andorra\n",
      "      State  Country      Lat    Long       Date  Confirmed_cases  Death_cases\n",
      "22707   NaN  Andorra  42.5063  1.5218 2020-04-17              696           35\n",
      "696\n",
      "Angola\n",
      "      State Country      Lat     Long       Date  Confirmed_cases  Death_cases\n",
      "22708   NaN  Angola -11.2027  17.8739 2020-04-17               19            2\n",
      "19\n",
      "Antigua and Barbuda\n",
      "      State              Country      Lat     Long       Date  \\\n",
      "22709   NaN  Antigua and Barbuda  17.0608 -61.7964 2020-04-17   \n",
      "\n",
      "       Confirmed_cases  Death_cases  \n",
      "22709               23            3  \n",
      "23\n",
      "Argentina\n",
      "      State    Country      Lat     Long       Date  Confirmed_cases  \\\n",
      "22710   NaN  Argentina -38.4161 -63.6167 2020-04-17             2669   \n",
      "\n",
      "       Death_cases  \n",
      "22710          123  \n",
      "2669\n",
      "Armenia\n",
      "      State  Country      Lat     Long       Date  Confirmed_cases  \\\n",
      "22711   NaN  Armenia  40.0691  45.0382 2020-04-17             1201   \n",
      "\n",
      "       Death_cases  \n",
      "22711           19  \n",
      "1201\n",
      "Australia\n",
      "                              State    Country      Lat      Long       Date  \\\n",
      "22712  Australian Capital Territory  Australia -35.4735  149.0124 2020-04-17   \n",
      "22713               New South Wales  Australia -33.8688  151.2093 2020-04-17   \n",
      "22714            Northern Territory  Australia -12.4634  130.8456 2020-04-17   \n",
      "22715                    Queensland  Australia -28.0167  153.4000 2020-04-17   \n",
      "22716               South Australia  Australia -34.9285  138.6007 2020-04-17   \n",
      "22717                      Tasmania  Australia -41.4545  145.9707 2020-04-17   \n",
      "22718                      Victoria  Australia -37.8136  144.9631 2020-04-17   \n",
      "22719             Western Australia  Australia -31.9505  115.8605 2020-04-17   \n",
      "\n",
      "       Confirmed_cases  Death_cases  \n",
      "22712              103            3  \n",
      "22713             2926           26  \n",
      "22714               28            0  \n",
      "22715             1007            5  \n",
      "22716              435            4  \n",
      "22717              180            7  \n",
      "22718             1302           14  \n",
      "22719              541            7  \n",
      "6522\n",
      "Austria\n",
      "      State  Country      Lat     Long       Date  Confirmed_cases  \\\n",
      "22720   NaN  Austria  47.5162  14.5501 2020-04-17            14595   \n",
      "\n",
      "       Death_cases  \n",
      "22720          431  \n",
      "14595\n",
      "Azerbaijan\n",
      "      State     Country      Lat     Long       Date  Confirmed_cases  \\\n",
      "22721   NaN  Azerbaijan  40.1431  47.5769 2020-04-17             1340   \n",
      "\n",
      "       Death_cases  \n",
      "22721           15  \n",
      "1340\n",
      "Bahamas\n",
      "      State  Country      Lat     Long       Date  Confirmed_cases  \\\n",
      "22722   NaN  Bahamas  25.0343 -77.3963 2020-04-17               54   \n",
      "\n",
      "       Death_cases  \n",
      "22722            9  \n",
      "54\n",
      "Bahrain\n",
      "      State  Country      Lat   Long       Date  Confirmed_cases  Death_cases\n",
      "22723   NaN  Bahrain  26.0275  50.55 2020-04-17             1740            7\n",
      "1740\n",
      "Bangladesh\n",
      "      State     Country     Lat     Long       Date  Confirmed_cases  \\\n",
      "22724   NaN  Bangladesh  23.685  90.3563 2020-04-17             1838   \n",
      "\n",
      "       Death_cases  \n",
      "22724           75  \n",
      "1838\n",
      "Barbados\n",
      "      State   Country      Lat     Long       Date  Confirmed_cases  \\\n",
      "22725   NaN  Barbados  13.1939 -59.5432 2020-04-17               75   \n",
      "\n",
      "       Death_cases  \n",
      "22725            5  \n",
      "75\n",
      "Belarus\n",
      "      State  Country      Lat     Long       Date  Confirmed_cases  \\\n",
      "22726   NaN  Belarus  53.7098  27.9534 2020-04-17             4779   \n",
      "\n",
      "       Death_cases  \n",
      "22726           42  \n",
      "4779\n",
      "Belgium\n",
      "      State  Country      Lat  Long       Date  Confirmed_cases  Death_cases\n",
      "22727   NaN  Belgium  50.8333   4.0 2020-04-17            36138         5163\n",
      "36138\n",
      "Benin\n",
      "      State Country     Lat    Long       Date  Confirmed_cases  Death_cases\n",
      "22728   NaN   Benin  9.3077  2.3158 2020-04-17               35            1\n",
      "35\n",
      "Bhutan\n",
      "      State Country      Lat     Long       Date  Confirmed_cases  Death_cases\n",
      "22729   NaN  Bhutan  27.5142  90.4336 2020-04-17                5            0\n",
      "5\n",
      "Bolivia\n",
      "      State  Country      Lat     Long       Date  Confirmed_cases  \\\n",
      "22730   NaN  Bolivia -16.2902 -63.5887 2020-04-17              465   \n",
      "\n",
      "       Death_cases  \n",
      "22730           31  \n",
      "465\n",
      "Bosnia and Herzegovina\n",
      "      State                 Country      Lat     Long       Date  \\\n",
      "22731   NaN  Bosnia and Herzegovina  43.9159  17.6791 2020-04-17   \n",
      "\n",
      "       Confirmed_cases  Death_cases  \n",
      "22731             1214           46  \n",
      "1214\n",
      "Brazil\n",
      "      State Country     Lat     Long       Date  Confirmed_cases  Death_cases\n",
      "22732   NaN  Brazil -14.235 -51.9253 2020-04-17            33682         2141\n",
      "33682\n",
      "Brunei\n",
      "      State Country     Lat      Long       Date  Confirmed_cases  Death_cases\n",
      "22733   NaN  Brunei  4.5353  114.7277 2020-04-17              136            1\n",
      "136\n",
      "Bulgaria\n",
      "      State   Country      Lat     Long       Date  Confirmed_cases  \\\n",
      "22734   NaN  Bulgaria  42.7339  25.4858 2020-04-17              846   \n",
      "\n",
      "       Death_cases  \n",
      "22734           41  \n",
      "846\n",
      "Burkina Faso\n",
      "      State       Country      Lat    Long       Date  Confirmed_cases  \\\n",
      "22735   NaN  Burkina Faso  12.2383 -1.5616 2020-04-17              557   \n",
      "\n",
      "       Death_cases  \n",
      "22735           35  \n",
      "557\n",
      "Cabo Verde\n",
      "      State     Country      Lat     Long       Date  Confirmed_cases  \\\n",
      "22736   NaN  Cabo Verde  16.5388 -23.0418 2020-04-17               56   \n",
      "\n",
      "       Death_cases  \n",
      "22736            1  \n",
      "56\n",
      "Cambodia\n",
      "      State   Country    Lat      Long       Date  Confirmed_cases  \\\n",
      "22737   NaN  Cambodia  11.55  104.9167 2020-04-17              122   \n",
      "\n",
      "       Death_cases  \n",
      "22737            0  \n",
      "122\n",
      "Cameroon\n",
      "      State   Country    Lat     Long       Date  Confirmed_cases  Death_cases\n",
      "22738   NaN  Cameroon  3.848  11.5021 2020-04-17              996           22\n",
      "996\n",
      "Canada\n",
      "                           State Country      Lat      Long       Date  \\\n",
      "22739                    Alberta  Canada  53.9333 -116.5765 2020-04-17   \n",
      "22740           British Columbia  Canada  49.2827 -123.1207 2020-04-17   \n",
      "22741             Grand Princess  Canada  37.6489 -122.6655 2020-04-17   \n",
      "22742                   Manitoba  Canada  53.7609  -98.8139 2020-04-17   \n",
      "22743              New Brunswick  Canada  46.5653  -66.4619 2020-04-17   \n",
      "22744  Newfoundland and Labrador  Canada  53.1355  -57.6604 2020-04-17   \n",
      "22745                Nova Scotia  Canada  44.6820  -63.7443 2020-04-17   \n",
      "22746                    Ontario  Canada  51.2538  -85.3232 2020-04-17   \n",
      "22747       Prince Edward Island  Canada  46.5107  -63.4168 2020-04-17   \n",
      "22748                     Quebec  Canada  52.9399  -73.5491 2020-04-17   \n",
      "22749               Saskatchewan  Canada  52.9399 -106.4509 2020-04-17   \n",
      "22935           Diamond Princess  Canada   0.0000    0.0000 2020-04-17   \n",
      "22942                  Recovered  Canada   0.0000    0.0000 2020-04-17   \n",
      "22949      Northwest Territories  Canada  64.8255 -124.8457 2020-04-17   \n",
      "22950                      Yukon  Canada  64.2823 -135.0000 2020-04-17   \n",
      "\n",
      "       Confirmed_cases  Death_cases  \n",
      "22739             2397           50  \n",
      "22740             1575           77  \n",
      "22741               13            0  \n",
      "22742              250            5  \n",
      "22743              117            0  \n",
      "22744              256            3  \n",
      "22745              606            4  \n",
      "22746            10456          524  \n",
      "22747               26            0  \n",
      "22748            16798          688  \n",
      "22749              307            4  \n",
      "22935               -1           -1  \n",
      "22942                0            0  \n",
      "22949                5            0  \n",
      "22950                8            0  \n",
      "32813\n",
      "Central African Republic\n",
      "      State                   Country     Lat     Long       Date  \\\n",
      "22750   NaN  Central African Republic  6.6111  20.9394 2020-04-17   \n",
      "\n",
      "       Confirmed_cases  Death_cases  \n",
      "22750               12            0  \n",
      "12\n",
      "Chad\n",
      "      State Country      Lat     Long       Date  Confirmed_cases  Death_cases\n",
      "22751   NaN    Chad  15.4542  18.7322 2020-04-17               27            0\n",
      "27\n",
      "Chile\n",
      "      State Country      Lat    Long       Date  Confirmed_cases  Death_cases\n",
      "22752   NaN   Chile -35.6751 -71.543 2020-04-17             9252          116\n",
      "9252\n",
      "China\n",
      "                State Country      Lat      Long       Date  Confirmed_cases  \\\n",
      "22753           Anhui   China  31.8257  117.2264 2020-04-17              991   \n",
      "22754         Beijing   China  40.1824  116.4142 2020-04-17              593   \n",
      "22755       Chongqing   China  30.0572  107.8740 2020-04-17              579   \n",
      "22756          Fujian   China  26.0789  117.9874 2020-04-17              354   \n",
      "22757           Gansu   China  37.8099  101.0583 2020-04-17              139   \n",
      "22758       Guangdong   China  23.3417  113.4244 2020-04-17             1577   \n",
      "22759         Guangxi   China  23.8298  108.7881 2020-04-17              254   \n",
      "22760         Guizhou   China  26.8154  106.8748 2020-04-17              146   \n",
      "22761          Hainan   China  19.1959  109.7453 2020-04-17              168   \n",
      "22762           Hebei   China  39.5490  116.1306 2020-04-17              328   \n",
      "22763    Heilongjiang   China  47.8620  127.7615 2020-04-17              872   \n",
      "22764           Henan   China  33.8820  113.6140 2020-04-17             1276   \n",
      "22765       Hong Kong   China  22.3000  114.2000 2020-04-17             1021   \n",
      "22766           Hubei   China  30.9756  112.2707 2020-04-17            68128   \n",
      "22767           Hunan   China  27.6104  111.7088 2020-04-17             1019   \n",
      "22768  Inner Mongolia   China  44.0935  113.9448 2020-04-17              193   \n",
      "22769         Jiangsu   China  32.9711  119.4550 2020-04-17              653   \n",
      "22770         Jiangxi   China  27.6140  115.7221 2020-04-17              937   \n",
      "22771           Jilin   China  43.6661  126.1923 2020-04-17              102   \n",
      "22772        Liaoning   China  41.2956  122.6085 2020-04-17              146   \n",
      "22773           Macau   China  22.1667  113.5500 2020-04-17               45   \n",
      "22774         Ningxia   China  37.2692  106.1655 2020-04-17               75   \n",
      "22775         Qinghai   China  35.7452   95.9956 2020-04-17               18   \n",
      "22776         Shaanxi   China  35.1917  108.8701 2020-04-17              256   \n",
      "22777        Shandong   China  36.3427  118.1498 2020-04-17              787   \n",
      "22778        Shanghai   China  31.2020  121.4491 2020-04-17              628   \n",
      "22779          Shanxi   China  37.5777  112.2922 2020-04-17              197   \n",
      "22780         Sichuan   China  30.6171  102.7103 2020-04-17              560   \n",
      "22781         Tianjin   China  39.3054  117.3230 2020-04-17              189   \n",
      "22782           Tibet   China  31.6927   88.0924 2020-04-17                1   \n",
      "22783        Xinjiang   China  41.1129   85.2401 2020-04-17               76   \n",
      "22784          Yunnan   China  24.9740  101.4870 2020-04-17              184   \n",
      "22785        Zhejiang   China  29.1832  120.0934 2020-04-17             1268   \n",
      "\n",
      "       Death_cases  \n",
      "22753            6  \n",
      "22754            8  \n",
      "22755            6  \n",
      "22756            1  \n",
      "22757            2  \n",
      "22758            8  \n",
      "22759            2  \n",
      "22760            2  \n",
      "22761            6  \n",
      "22762            6  \n",
      "22763           13  \n",
      "22764           22  \n",
      "22765            4  \n",
      "22766         4512  \n",
      "22767            4  \n",
      "22768            1  \n",
      "22769            0  \n",
      "22770            1  \n",
      "22771            1  \n",
      "22772            2  \n",
      "22773            0  \n",
      "22774            0  \n",
      "22775            0  \n",
      "22776            3  \n",
      "22777            7  \n",
      "22778            7  \n",
      "22779            0  \n",
      "22780            3  \n",
      "22781            3  \n",
      "22782            0  \n",
      "22783            3  \n",
      "22784            2  \n",
      "22785            1  \n",
      "83760\n"
     ]
    },
    {
     "name": "stdout",
     "output_type": "stream",
     "text": [
      "Colombia\n",
      "      State   Country     Lat     Long       Date  Confirmed_cases  \\\n",
      "22786   NaN  Colombia  4.5709 -74.2973 2020-04-17             3439   \n",
      "\n",
      "       Death_cases  \n",
      "22786          153  \n",
      "3439\n",
      "Congo (Brazzaville)\n",
      "      State              Country     Lat     Long       Date  Confirmed_cases  \\\n",
      "22787   NaN  Congo (Brazzaville) -4.0383  21.7587 2020-04-17              143   \n",
      "\n",
      "       Death_cases  \n",
      "22787            6  \n",
      "143\n",
      "Congo (Kinshasa)\n",
      "      State           Country     Lat     Long       Date  Confirmed_cases  \\\n",
      "22788   NaN  Congo (Kinshasa) -4.0383  21.7587 2020-04-17              287   \n",
      "\n",
      "       Death_cases  \n",
      "22788           23  \n",
      "287\n",
      "Costa Rica\n",
      "      State     Country     Lat     Long       Date  Confirmed_cases  \\\n",
      "22789   NaN  Costa Rica  9.7489 -83.7534 2020-04-17              649   \n",
      "\n",
      "       Death_cases  \n",
      "22789            4  \n",
      "649\n",
      "Cote d'Ivoire\n",
      "      State        Country   Lat    Long       Date  Confirmed_cases  \\\n",
      "22790   NaN  Cote d'Ivoire  7.54 -5.5471 2020-04-17              688   \n",
      "\n",
      "       Death_cases  \n",
      "22790            6  \n",
      "688\n",
      "Croatia\n",
      "      State  Country   Lat  Long       Date  Confirmed_cases  Death_cases\n",
      "22791   NaN  Croatia  45.1  15.2 2020-04-17             1814           36\n",
      "1814\n",
      "Diamond Princess\n",
      "      State           Country  Lat  Long       Date  Confirmed_cases  \\\n",
      "22792   NaN  Diamond Princess  0.0   0.0 2020-04-17              712   \n",
      "\n",
      "       Death_cases  \n",
      "22792           13  \n",
      "712\n",
      "Cuba\n",
      "      State Country   Lat  Long       Date  Confirmed_cases  Death_cases\n",
      "22793   NaN    Cuba  22.0 -80.0 2020-04-17              923           31\n",
      "923\n",
      "Cyprus\n",
      "      State Country      Lat     Long       Date  Confirmed_cases  Death_cases\n",
      "22794   NaN  Cyprus  35.1264  33.4299 2020-04-17              750           12\n",
      "750\n",
      "Czechia\n",
      "      State  Country      Lat    Long       Date  Confirmed_cases  Death_cases\n",
      "22795   NaN  Czechia  49.8175  15.473 2020-04-17             6549          173\n",
      "6549\n",
      "Denmark\n",
      "               State  Country      Lat     Long       Date  Confirmed_cases  \\\n",
      "22796  Faroe Islands  Denmark  61.8926  -6.9118 2020-04-17              184   \n",
      "22797      Greenland  Denmark  71.7069 -42.6043 2020-04-17               11   \n",
      "22798            NaN  Denmark  56.2639   9.5018 2020-04-17             7073   \n",
      "\n",
      "       Death_cases  \n",
      "22796            0  \n",
      "22797            0  \n",
      "22798          336  \n",
      "7268\n",
      "Djibouti\n",
      "      State   Country      Lat     Long       Date  Confirmed_cases  \\\n",
      "22799   NaN  Djibouti  11.8251  42.5903 2020-04-17              732   \n",
      "\n",
      "       Death_cases  \n",
      "22799            2  \n",
      "732\n",
      "Dominican Republic\n",
      "      State             Country      Lat     Long       Date  Confirmed_cases  \\\n",
      "22800   NaN  Dominican Republic  18.7357 -70.1627 2020-04-17             4126   \n",
      "\n",
      "       Death_cases  \n",
      "22800          200  \n",
      "4126\n",
      "Ecuador\n",
      "      State  Country     Lat     Long       Date  Confirmed_cases  Death_cases\n",
      "22801   NaN  Ecuador -1.8312 -78.1834 2020-04-17             8450          421\n",
      "8450\n",
      "Egypt\n",
      "      State Country   Lat  Long       Date  Confirmed_cases  Death_cases\n",
      "22802   NaN   Egypt  26.0  30.0 2020-04-17             2844          205\n",
      "2844\n",
      "El Salvador\n",
      "      State      Country      Lat     Long       Date  Confirmed_cases  \\\n",
      "22803   NaN  El Salvador  13.7942 -88.8965 2020-04-17              177   \n",
      "\n",
      "       Death_cases  \n",
      "22803            7  \n",
      "177\n",
      "Equatorial Guinea\n",
      "      State            Country  Lat  Long       Date  Confirmed_cases  \\\n",
      "22804   NaN  Equatorial Guinea  1.5  10.0 2020-04-17               79   \n",
      "\n",
      "       Death_cases  \n",
      "22804            0  \n",
      "79\n",
      "Eritrea\n",
      "      State  Country      Lat     Long       Date  Confirmed_cases  \\\n",
      "22805   NaN  Eritrea  15.1794  39.7823 2020-04-17               35   \n",
      "\n",
      "       Death_cases  \n",
      "22805            0  \n",
      "35\n",
      "Estonia\n",
      "      State  Country      Lat     Long       Date  Confirmed_cases  \\\n",
      "22806   NaN  Estonia  58.5953  25.0136 2020-04-17             1459   \n",
      "\n",
      "       Death_cases  \n",
      "22806           38  \n",
      "1459\n",
      "Eswatini\n",
      "      State   Country      Lat     Long       Date  Confirmed_cases  \\\n",
      "22807   NaN  Eswatini -26.5225  31.4659 2020-04-17               16   \n",
      "\n",
      "       Death_cases  \n",
      "22807            1  \n",
      "16\n",
      "Ethiopia\n",
      "      State   Country    Lat     Long       Date  Confirmed_cases  Death_cases\n",
      "22808   NaN  Ethiopia  9.145  40.4897 2020-04-17               96            3\n",
      "96\n",
      "Fiji\n",
      "      State Country      Lat     Long       Date  Confirmed_cases  Death_cases\n",
      "22809   NaN    Fiji -17.7134  178.065 2020-04-17               17            0\n",
      "17\n",
      "Finland\n",
      "      State  Country   Lat  Long       Date  Confirmed_cases  Death_cases\n",
      "22810   NaN  Finland  64.0  26.0 2020-04-17             3489           82\n",
      "3489\n",
      "France\n",
      "                           State Country      Lat      Long       Date  \\\n",
      "22811              French Guiana  France   3.9339  -53.1258 2020-04-17   \n",
      "22812           French Polynesia  France -17.6797  149.4068 2020-04-17   \n",
      "22813                 Guadeloupe  France  16.2500  -61.5833 2020-04-17   \n",
      "22814                    Mayotte  France -12.8275   45.1662 2020-04-17   \n",
      "22815              New Caledonia  France -20.9043  165.6180 2020-04-17   \n",
      "22816                    Reunion  France -21.1351   55.2471 2020-04-17   \n",
      "22817           Saint Barthelemy  France  17.9000  -62.8333 2020-04-17   \n",
      "22818                  St Martin  France  18.0708  -63.0501 2020-04-17   \n",
      "22819                 Martinique  France  14.6415  -61.0242 2020-04-17   \n",
      "22820                        NaN  France  46.2276    2.2137 2020-04-17   \n",
      "22963  Saint Pierre and Miquelon  France  46.8852  -56.3159 2020-04-17   \n",
      "\n",
      "       Confirmed_cases  Death_cases  \n",
      "22811               96            0  \n",
      "22812               55            0  \n",
      "22813              145            8  \n",
      "22814              245            4  \n",
      "22815               18            0  \n",
      "22816              402            0  \n",
      "22817                6            0  \n",
      "22818               35            2  \n",
      "22819              158            8  \n",
      "22820           147969        18681  \n",
      "22963                1            0  \n",
      "149130\n",
      "Gabon\n",
      "      State Country     Lat     Long       Date  Confirmed_cases  Death_cases\n",
      "22821   NaN   Gabon -0.8037  11.6094 2020-04-17              108            1\n",
      "108\n",
      "Gambia\n",
      "      State Country      Lat     Long       Date  Confirmed_cases  Death_cases\n",
      "22822   NaN  Gambia  13.4432 -15.3101 2020-04-17                9            1\n",
      "9\n",
      "Georgia\n",
      "      State  Country      Lat     Long       Date  Confirmed_cases  \\\n",
      "22823   NaN  Georgia  42.3154  43.3569 2020-04-17              370   \n",
      "\n",
      "       Death_cases  \n",
      "22823            3  \n",
      "370\n",
      "Germany\n",
      "      State  Country   Lat  Long       Date  Confirmed_cases  Death_cases\n",
      "22824   NaN  Germany  51.0   9.0 2020-04-17           141397         4352\n",
      "141397\n",
      "Ghana\n",
      "      State Country     Lat    Long       Date  Confirmed_cases  Death_cases\n",
      "22825   NaN   Ghana  7.9465 -1.0232 2020-04-17              641            8\n",
      "641\n",
      "Greece\n",
      "      State Country      Lat     Long       Date  Confirmed_cases  Death_cases\n",
      "22826   NaN  Greece  39.0742  21.8243 2020-04-17             2224          108\n",
      "2224\n",
      "Guatemala\n",
      "      State    Country      Lat     Long       Date  Confirmed_cases  \\\n",
      "22827   NaN  Guatemala  15.7835 -90.2308 2020-04-17              214   \n",
      "\n",
      "       Death_cases  \n",
      "22827            7  \n",
      "214\n",
      "Guinea\n",
      "      State Country     Lat    Long       Date  Confirmed_cases  Death_cases\n",
      "22828   NaN  Guinea  9.9456 -9.6966 2020-04-17              477            3\n",
      "477\n",
      "Guyana\n",
      "      State Country  Lat   Long       Date  Confirmed_cases  Death_cases\n",
      "22829   NaN  Guyana  5.0 -58.75 2020-04-17               63            6\n",
      "63\n",
      "Haiti\n",
      "      State Country      Lat     Long       Date  Confirmed_cases  Death_cases\n",
      "22830   NaN   Haiti  18.9712 -72.2852 2020-04-17               43            3\n",
      "43\n",
      "Holy See\n",
      "      State   Country      Lat     Long       Date  Confirmed_cases  \\\n",
      "22831   NaN  Holy See  41.9029  12.4534 2020-04-17                8   \n",
      "\n",
      "       Death_cases  \n",
      "22831            0  \n",
      "8\n",
      "Honduras\n",
      "      State   Country   Lat     Long       Date  Confirmed_cases  Death_cases\n",
      "22832   NaN  Honduras  15.2 -86.2419 2020-04-17              442           41\n",
      "442\n",
      "Hungary\n",
      "      State  Country      Lat     Long       Date  Confirmed_cases  \\\n",
      "22833   NaN  Hungary  47.1625  19.5033 2020-04-17             1763   \n",
      "\n",
      "       Death_cases  \n",
      "22833          156  \n",
      "1763\n",
      "Iceland\n",
      "      State  Country      Lat     Long       Date  Confirmed_cases  \\\n",
      "22834   NaN  Iceland  64.9631 -19.0208 2020-04-17             1754   \n",
      "\n",
      "       Death_cases  \n",
      "22834            9  \n",
      "1754\n",
      "India\n",
      "      State Country   Lat  Long       Date  Confirmed_cases  Death_cases\n",
      "22835   NaN   India  21.0  78.0 2020-04-17            14352          486\n",
      "14352\n",
      "Indonesia\n",
      "      State    Country     Lat      Long       Date  Confirmed_cases  \\\n",
      "22836   NaN  Indonesia -0.7893  113.9213 2020-04-17             5923   \n",
      "\n",
      "       Death_cases  \n",
      "22836          520  \n",
      "5923\n",
      "Iran\n",
      "      State Country   Lat  Long       Date  Confirmed_cases  Death_cases\n",
      "22837   NaN    Iran  32.0  53.0 2020-04-17            79494         4958\n",
      "79494\n",
      "Iraq\n",
      "      State Country   Lat  Long       Date  Confirmed_cases  Death_cases\n",
      "22838   NaN    Iraq  33.0  44.0 2020-04-17             1482           81\n",
      "1482\n",
      "Ireland\n",
      "      State  Country      Lat    Long       Date  Confirmed_cases  Death_cases\n",
      "22839   NaN  Ireland  53.1424 -7.6921 2020-04-17            13980          530\n",
      "13980\n",
      "Israel\n",
      "      State Country   Lat  Long       Date  Confirmed_cases  Death_cases\n",
      "22840   NaN  Israel  31.0  35.0 2020-04-17            12982          151\n",
      "12982\n",
      "Italy\n",
      "      State Country   Lat  Long       Date  Confirmed_cases  Death_cases\n",
      "22841   NaN   Italy  43.0  12.0 2020-04-17           172434        22745\n",
      "172434\n",
      "Jamaica\n",
      "      State  Country      Lat     Long       Date  Confirmed_cases  \\\n",
      "22842   NaN  Jamaica  18.1096 -77.2975 2020-04-17              143   \n",
      "\n",
      "       Death_cases  \n",
      "22842            5  \n",
      "143\n",
      "Japan\n",
      "      State Country   Lat   Long       Date  Confirmed_cases  Death_cases\n",
      "22843   NaN   Japan  36.0  138.0 2020-04-17             9787          190\n",
      "9787\n",
      "Jordan\n",
      "      State Country    Lat   Long       Date  Confirmed_cases  Death_cases\n"
     ]
    },
    {
     "name": "stdout",
     "output_type": "stream",
     "text": [
      "22844   NaN  Jordan  31.24  36.51 2020-04-17              407            7\n",
      "407\n",
      "Kazakhstan\n",
      "      State     Country      Lat     Long       Date  Confirmed_cases  \\\n",
      "22845   NaN  Kazakhstan  48.0196  66.9237 2020-04-17             1546   \n",
      "\n",
      "       Death_cases  \n",
      "22845           17  \n",
      "1546\n",
      "Kenya\n",
      "      State Country     Lat     Long       Date  Confirmed_cases  Death_cases\n",
      "22846   NaN   Kenya -0.0236  37.9062 2020-04-17              246           11\n",
      "246\n",
      "Korea, South\n",
      "      State       Country   Lat   Long       Date  Confirmed_cases  \\\n",
      "22847   NaN  Korea, South  36.0  128.0 2020-04-17            10635   \n",
      "\n",
      "       Death_cases  \n",
      "22847          230  \n",
      "10635\n",
      "Kuwait\n",
      "      State Country   Lat   Long       Date  Confirmed_cases  Death_cases\n",
      "22848   NaN  Kuwait  29.5  47.75 2020-04-17             1658            5\n",
      "1658\n",
      "Kyrgyzstan\n",
      "      State     Country      Lat     Long       Date  Confirmed_cases  \\\n",
      "22849   NaN  Kyrgyzstan  41.2044  74.7661 2020-04-17              489   \n",
      "\n",
      "       Death_cases  \n",
      "22849            5  \n",
      "489\n",
      "Latvia\n",
      "      State Country      Lat     Long       Date  Confirmed_cases  Death_cases\n",
      "22850   NaN  Latvia  56.8796  24.6032 2020-04-17              682            5\n",
      "682\n",
      "Lebanon\n",
      "      State  Country      Lat     Long       Date  Confirmed_cases  \\\n",
      "22851   NaN  Lebanon  33.8547  35.8623 2020-04-17              668   \n",
      "\n",
      "       Death_cases  \n",
      "22851           21  \n",
      "668\n",
      "Liberia\n",
      "      State  Country     Lat    Long       Date  Confirmed_cases  Death_cases\n",
      "22852   NaN  Liberia  6.4281 -9.4295 2020-04-17               76            7\n",
      "76\n",
      "Liechtenstein\n",
      "      State        Country    Lat  Long       Date  Confirmed_cases  \\\n",
      "22853   NaN  Liechtenstein  47.14  9.55 2020-04-17               79   \n",
      "\n",
      "       Death_cases  \n",
      "22853            1  \n",
      "79\n",
      "Lithuania\n",
      "      State    Country      Lat     Long       Date  Confirmed_cases  \\\n",
      "22854   NaN  Lithuania  55.1694  23.8813 2020-04-17             1149   \n",
      "\n",
      "       Death_cases  \n",
      "22854           33  \n",
      "1149\n",
      "Luxembourg\n",
      "      State     Country      Lat    Long       Date  Confirmed_cases  \\\n",
      "22855   NaN  Luxembourg  49.8153  6.1296 2020-04-17             3480   \n",
      "\n",
      "       Death_cases  \n",
      "22855           72  \n",
      "3480\n",
      "Madagascar\n",
      "      State     Country      Lat     Long       Date  Confirmed_cases  \\\n",
      "22856   NaN  Madagascar -18.7669  46.8691 2020-04-17              117   \n",
      "\n",
      "       Death_cases  \n",
      "22856            0  \n",
      "117\n",
      "Malaysia\n",
      "      State   Country  Lat   Long       Date  Confirmed_cases  Death_cases\n",
      "22857   NaN  Malaysia  2.5  112.5 2020-04-17             5251           86\n",
      "5251\n",
      "Maldives\n",
      "      State   Country     Lat     Long       Date  Confirmed_cases  \\\n",
      "22858   NaN  Maldives  3.2028  73.2207 2020-04-17               28   \n",
      "\n",
      "       Death_cases  \n",
      "22858            0  \n",
      "28\n",
      "Malta\n",
      "      State Country      Lat     Long       Date  Confirmed_cases  Death_cases\n",
      "22859   NaN   Malta  35.9375  14.3754 2020-04-17              422            3\n",
      "422\n",
      "Mauritania\n",
      "      State     Country      Lat     Long       Date  Confirmed_cases  \\\n",
      "22860   NaN  Mauritania  21.0079  10.9408 2020-04-17                7   \n",
      "\n",
      "       Death_cases  \n",
      "22860            1  \n",
      "7\n",
      "Mauritius\n",
      "      State    Country   Lat  Long       Date  Confirmed_cases  Death_cases\n",
      "22861   NaN  Mauritius -20.2  57.5 2020-04-17              324            9\n",
      "324\n",
      "Mexico\n",
      "      State Country      Lat      Long       Date  Confirmed_cases  \\\n",
      "22862   NaN  Mexico  23.6345 -102.5528 2020-04-17             6297   \n",
      "\n",
      "       Death_cases  \n",
      "22862          486  \n",
      "6297\n",
      "Moldova\n",
      "      State  Country      Lat     Long       Date  Confirmed_cases  \\\n",
      "22863   NaN  Moldova  47.4116  28.3699 2020-04-17             2264   \n",
      "\n",
      "       Death_cases  \n",
      "22863           56  \n",
      "2264\n",
      "Monaco\n",
      "      State Country      Lat    Long       Date  Confirmed_cases  Death_cases\n",
      "22864   NaN  Monaco  43.7333  7.4167 2020-04-17               94            3\n",
      "94\n",
      "Mongolia\n",
      "      State   Country      Lat      Long       Date  Confirmed_cases  \\\n",
      "22865   NaN  Mongolia  46.8625  103.8467 2020-04-17               31   \n",
      "\n",
      "       Death_cases  \n",
      "22865            0  \n",
      "31\n",
      "Montenegro\n",
      "      State     Country   Lat  Long       Date  Confirmed_cases  Death_cases\n",
      "22866   NaN  Montenegro  42.5  19.3 2020-04-17              303            5\n",
      "303\n",
      "Morocco\n",
      "      State  Country      Lat    Long       Date  Confirmed_cases  Death_cases\n",
      "22867   NaN  Morocco  31.7917 -7.0926 2020-04-17             2564          135\n",
      "2564\n",
      "Namibia\n",
      "      State  Country      Lat     Long       Date  Confirmed_cases  \\\n",
      "22868   NaN  Namibia -22.9576  18.4904 2020-04-17               16   \n",
      "\n",
      "       Death_cases  \n",
      "22868            0  \n",
      "16\n",
      "Nepal\n",
      "      State Country      Lat   Long       Date  Confirmed_cases  Death_cases\n",
      "22869   NaN   Nepal  28.1667  84.25 2020-04-17               30            0\n",
      "30\n",
      "Netherlands\n",
      "                                  State      Country      Lat     Long  \\\n",
      "22870                             Aruba  Netherlands  12.5186 -70.0358   \n",
      "22871                           Curacao  Netherlands  12.1696 -68.9900   \n",
      "22872                      Sint Maarten  Netherlands  18.0425 -63.0548   \n",
      "22873                               NaN  Netherlands  52.1326   5.2913   \n",
      "22960  Bonaire, Sint Eustatius and Saba  Netherlands  12.1784 -68.2385   \n",
      "\n",
      "            Date  Confirmed_cases  Death_cases  \n",
      "22870 2020-04-17               96            2  \n",
      "22871 2020-04-17               14            1  \n",
      "22872 2020-04-17               57            9  \n",
      "22873 2020-04-17            30449         3459  \n",
      "22960 2020-04-17                3            0  \n",
      "30619\n",
      "New Zealand\n",
      "      State      Country      Lat     Long       Date  Confirmed_cases  \\\n",
      "22874   NaN  New Zealand -40.9006  174.886 2020-04-17             1409   \n",
      "\n",
      "       Death_cases  \n",
      "22874           11  \n",
      "1409\n",
      "Nicaragua\n",
      "      State    Country      Lat     Long       Date  Confirmed_cases  \\\n",
      "22875   NaN  Nicaragua  12.8654 -85.2072 2020-04-17                9   \n",
      "\n",
      "       Death_cases  \n",
      "22875            1  \n",
      "9\n",
      "Niger\n",
      "      State Country      Lat    Long       Date  Confirmed_cases  Death_cases\n",
      "22876   NaN   Niger  17.6078  8.0817 2020-04-17              627           18\n",
      "627\n",
      "Nigeria\n",
      "      State  Country    Lat    Long       Date  Confirmed_cases  Death_cases\n",
      "22877   NaN  Nigeria  9.082  8.6753 2020-04-17              493           17\n",
      "493\n",
      "North Macedonia\n",
      "      State          Country      Lat     Long       Date  Confirmed_cases  \\\n",
      "22878   NaN  North Macedonia  41.6086  21.7453 2020-04-17             1117   \n",
      "\n",
      "       Death_cases  \n",
      "22878           49  \n",
      "1117\n",
      "Norway\n",
      "      State Country     Lat    Long       Date  Confirmed_cases  Death_cases\n",
      "22879   NaN  Norway  60.472  8.4689 2020-04-17             6937          161\n",
      "6937\n",
      "Oman\n",
      "      State Country   Lat  Long       Date  Confirmed_cases  Death_cases\n",
      "22880   NaN    Oman  21.0  57.0 2020-04-17             1069            6\n",
      "1069\n",
      "Pakistan\n",
      "      State   Country      Lat     Long       Date  Confirmed_cases  \\\n",
      "22881   NaN  Pakistan  30.3753  69.3451 2020-04-17             7025   \n",
      "\n",
      "       Death_cases  \n",
      "22881          135  \n",
      "7025\n",
      "Panama\n",
      "      State Country    Lat     Long       Date  Confirmed_cases  Death_cases\n",
      "22882   NaN  Panama  8.538 -80.7821 2020-04-17             4016          109\n",
      "4016\n",
      "Papua New Guinea\n",
      "      State           Country    Lat      Long       Date  Confirmed_cases  \\\n",
      "22883   NaN  Papua New Guinea -6.315  143.9555 2020-04-17                7   \n",
      "\n",
      "       Death_cases  \n",
      "22883            0  \n",
      "7\n",
      "Paraguay\n",
      "      State   Country      Lat     Long       Date  Confirmed_cases  \\\n",
      "22884   NaN  Paraguay -23.4425 -58.4438 2020-04-17              199   \n",
      "\n",
      "       Death_cases  \n",
      "22884            8  \n",
      "199\n",
      "Peru\n",
      "      State Country   Lat     Long       Date  Confirmed_cases  Death_cases\n",
      "22885   NaN    Peru -9.19 -75.0152 2020-04-17            13489          300\n",
      "13489\n",
      "Philippines\n",
      "      State      Country   Lat   Long       Date  Confirmed_cases  Death_cases\n",
      "22886   NaN  Philippines  13.0  122.0 2020-04-17             5878          387\n",
      "5878\n",
      "Poland\n",
      "      State Country      Lat     Long       Date  Confirmed_cases  Death_cases\n",
      "22887   NaN  Poland  51.9194  19.1451 2020-04-17             8379          332\n",
      "8379\n",
      "Portugal\n",
      "      State   Country      Lat    Long       Date  Confirmed_cases  \\\n",
      "22888   NaN  Portugal  39.3999 -8.2245 2020-04-17            19022   \n",
      "\n",
      "       Death_cases  \n",
      "22888          657  \n",
      "19022\n",
      "Qatar\n",
      "      State Country      Lat     Long       Date  Confirmed_cases  Death_cases\n",
      "22889   NaN   Qatar  25.3548  51.1839 2020-04-17             4663            7\n",
      "4663\n",
      "Romania\n",
      "      State  Country      Lat     Long       Date  Confirmed_cases  \\\n",
      "22890   NaN  Romania  45.9432  24.9668 2020-04-17             8067   \n",
      "\n",
      "       Death_cases  \n"
     ]
    },
    {
     "name": "stdout",
     "output_type": "stream",
     "text": [
      "22890          411  \n",
      "8067\n",
      "Russia\n",
      "      State Country   Lat  Long       Date  Confirmed_cases  Death_cases\n",
      "22891   NaN  Russia  60.0  90.0 2020-04-17            32008          273\n",
      "32008\n",
      "Rwanda\n",
      "      State Country     Lat     Long       Date  Confirmed_cases  Death_cases\n",
      "22892   NaN  Rwanda -1.9403  29.8739 2020-04-17              143            0\n",
      "143\n",
      "Saint Lucia\n",
      "      State      Country      Lat     Long       Date  Confirmed_cases  \\\n",
      "22893   NaN  Saint Lucia  13.9094 -60.9789 2020-04-17               15   \n",
      "\n",
      "       Death_cases  \n",
      "22893            0  \n",
      "15\n",
      "Saint Vincent and the Grenadines\n",
      "      State                           Country      Lat     Long       Date  \\\n",
      "22894   NaN  Saint Vincent and the Grenadines  12.9843 -61.2872 2020-04-17   \n",
      "\n",
      "       Confirmed_cases  Death_cases  \n",
      "22894               12            0  \n",
      "12\n",
      "San Marino\n",
      "      State     Country      Lat     Long       Date  Confirmed_cases  \\\n",
      "22895   NaN  San Marino  43.9424  12.4578 2020-04-17              435   \n",
      "\n",
      "       Death_cases  \n",
      "22895           39  \n",
      "435\n",
      "Saudi Arabia\n",
      "      State       Country   Lat  Long       Date  Confirmed_cases  Death_cases\n",
      "22896   NaN  Saudi Arabia  24.0  45.0 2020-04-17             7142           87\n",
      "7142\n",
      "Senegal\n",
      "      State  Country      Lat     Long       Date  Confirmed_cases  \\\n",
      "22897   NaN  Senegal  14.4974 -14.4524 2020-04-17              342   \n",
      "\n",
      "       Death_cases  \n",
      "22897            2  \n",
      "342\n",
      "Serbia\n",
      "      State Country      Lat     Long       Date  Confirmed_cases  Death_cases\n",
      "22898   NaN  Serbia  44.0165  21.0059 2020-04-17             5690          110\n",
      "5690\n",
      "Seychelles\n",
      "      State     Country     Lat    Long       Date  Confirmed_cases  \\\n",
      "22899   NaN  Seychelles -4.6796  55.492 2020-04-17               11   \n",
      "\n",
      "       Death_cases  \n",
      "22899            0  \n",
      "11\n",
      "Singapore\n",
      "      State    Country     Lat      Long       Date  Confirmed_cases  \\\n",
      "22900   NaN  Singapore  1.2833  103.8333 2020-04-17             5050   \n",
      "\n",
      "       Death_cases  \n",
      "22900           11  \n",
      "5050\n",
      "Slovakia\n",
      "      State   Country     Lat    Long       Date  Confirmed_cases  Death_cases\n",
      "22901   NaN  Slovakia  48.669  19.699 2020-04-17             1049            9\n",
      "1049\n",
      "Slovenia\n",
      "      State   Country      Lat     Long       Date  Confirmed_cases  \\\n",
      "22902   NaN  Slovenia  46.1512  14.9955 2020-04-17             1304   \n",
      "\n",
      "       Death_cases  \n",
      "22902           66  \n",
      "1304\n",
      "Somalia\n",
      "      State  Country     Lat     Long       Date  Confirmed_cases  Death_cases\n",
      "22903   NaN  Somalia  5.1521  46.1996 2020-04-17              116            6\n",
      "116\n",
      "South Africa\n",
      "      State       Country      Lat     Long       Date  Confirmed_cases  \\\n",
      "22904   NaN  South Africa -30.5595  22.9375 2020-04-17             2783   \n",
      "\n",
      "       Death_cases  \n",
      "22904           50  \n",
      "2783\n",
      "Spain\n",
      "      State Country   Lat  Long       Date  Confirmed_cases  Death_cases\n",
      "22905   NaN   Spain  40.0  -4.0 2020-04-17           190839        20002\n",
      "190839\n",
      "Sri Lanka\n",
      "      State    Country  Lat  Long       Date  Confirmed_cases  Death_cases\n",
      "22906   NaN  Sri Lanka  7.0  81.0 2020-04-17              244            7\n",
      "244\n",
      "Sudan\n",
      "      State Country      Lat     Long       Date  Confirmed_cases  Death_cases\n",
      "22907   NaN   Sudan  12.8628  30.2176 2020-04-17               33            6\n",
      "33\n",
      "Suriname\n",
      "      State   Country     Lat     Long       Date  Confirmed_cases  \\\n",
      "22908   NaN  Suriname  3.9193 -56.0278 2020-04-17               10   \n",
      "\n",
      "       Death_cases  \n",
      "22908            1  \n",
      "10\n",
      "Sweden\n",
      "      State Country   Lat  Long       Date  Confirmed_cases  Death_cases\n",
      "22909   NaN  Sweden  63.0  16.0 2020-04-17            13216         1400\n",
      "13216\n",
      "Switzerland\n",
      "      State      Country      Lat    Long       Date  Confirmed_cases  \\\n",
      "22910   NaN  Switzerland  46.8182  8.2275 2020-04-17            27078   \n",
      "\n",
      "       Death_cases  \n",
      "22910         1327  \n",
      "27078\n",
      "Taiwan*\n",
      "      State  Country   Lat   Long       Date  Confirmed_cases  Death_cases\n",
      "22911   NaN  Taiwan*  23.7  121.0 2020-04-17              395            6\n",
      "395\n",
      "Tanzania\n",
      "      State   Country    Lat     Long       Date  Confirmed_cases  Death_cases\n",
      "22912   NaN  Tanzania -6.369  34.8888 2020-04-17              147            5\n",
      "147\n",
      "Thailand\n",
      "      State   Country   Lat   Long       Date  Confirmed_cases  Death_cases\n",
      "22913   NaN  Thailand  15.0  101.0 2020-04-17             2700           47\n",
      "2700\n",
      "Togo\n",
      "      State Country     Lat    Long       Date  Confirmed_cases  Death_cases\n",
      "22914   NaN    Togo  8.6195  0.8248 2020-04-17               83            5\n",
      "83\n",
      "Trinidad and Tobago\n",
      "      State              Country      Lat     Long       Date  \\\n",
      "22915   NaN  Trinidad and Tobago  10.6918 -61.2225 2020-04-17   \n",
      "\n",
      "       Confirmed_cases  Death_cases  \n",
      "22915              114            8  \n",
      "114\n",
      "Tunisia\n",
      "      State  Country   Lat  Long       Date  Confirmed_cases  Death_cases\n",
      "22916   NaN  Tunisia  34.0   9.0 2020-04-17              864           37\n",
      "864\n",
      "Turkey\n",
      "      State Country      Lat     Long       Date  Confirmed_cases  Death_cases\n",
      "22917   NaN  Turkey  38.9637  35.2433 2020-04-17            78546         1769\n",
      "78546\n",
      "Uganda\n",
      "      State Country  Lat  Long       Date  Confirmed_cases  Death_cases\n",
      "22918   NaN  Uganda  1.0  32.0 2020-04-17               56            0\n",
      "56\n",
      "Ukraine\n",
      "      State  Country      Lat     Long       Date  Confirmed_cases  \\\n",
      "22919   NaN  Ukraine  48.3794  31.1656 2020-04-17             4662   \n",
      "\n",
      "       Death_cases  \n",
      "22919          125  \n",
      "4662\n",
      "United Arab Emirates\n",
      "      State               Country   Lat  Long       Date  Confirmed_cases  \\\n",
      "22920   NaN  United Arab Emirates  24.0  54.0 2020-04-17             6302   \n",
      "\n",
      "       Death_cases  \n",
      "22920           37  \n",
      "6302\n",
      "United Kingdom\n",
      "                             State         Country      Lat     Long  \\\n",
      "22921                      Bermuda  United Kingdom  32.3078 -64.7505   \n",
      "22922               Cayman Islands  United Kingdom  19.3133 -81.2546   \n",
      "22923              Channel Islands  United Kingdom  49.3723  -2.3644   \n",
      "22924                    Gibraltar  United Kingdom  36.1408  -5.3536   \n",
      "22925                  Isle of Man  United Kingdom  54.2361  -4.5481   \n",
      "22926                   Montserrat  United Kingdom  16.7425 -62.1874   \n",
      "22927                          NaN  United Kingdom  55.3781  -3.4360   \n",
      "22953                     Anguilla  United Kingdom  18.2206 -63.0686   \n",
      "22954       British Virgin Islands  United Kingdom  18.4207 -64.6400   \n",
      "22955     Turks and Caicos Islands  United Kingdom  21.6940 -71.7979   \n",
      "22962  Falkland Islands (Malvinas)  United Kingdom -51.7963 -59.5236   \n",
      "\n",
      "            Date  Confirmed_cases  Death_cases  \n",
      "22921 2020-04-17               83            5  \n",
      "22922 2020-04-17               61            1  \n",
      "22923 2020-04-17              470           20  \n",
      "22924 2020-04-17              132            0  \n",
      "22925 2020-04-17              291            4  \n",
      "22926 2020-04-17               11            0  \n",
      "22927 2020-04-17           108692        14576  \n",
      "22953 2020-04-17                3            0  \n",
      "22954 2020-04-17                4            0  \n",
      "22955 2020-04-17               11            1  \n",
      "22962 2020-04-17               11            0  \n",
      "109769\n",
      "Uruguay\n",
      "      State  Country      Lat     Long       Date  Confirmed_cases  \\\n",
      "22928   NaN  Uruguay -32.5228 -55.7658 2020-04-17              502   \n",
      "\n",
      "       Death_cases  \n",
      "22928            9  \n",
      "502\n",
      "US\n",
      "      State Country      Lat     Long       Date  Confirmed_cases  Death_cases\n",
      "22929   NaN      US  37.0902 -95.7129 2020-04-17           699706        36773\n",
      "699706\n",
      "Uzbekistan\n",
      "      State     Country      Lat     Long       Date  Confirmed_cases  \\\n",
      "22930   NaN  Uzbekistan  41.3775  64.5853 2020-04-17             1405   \n",
      "\n",
      "       Death_cases  \n",
      "22930            4  \n",
      "1405\n",
      "Venezuela\n",
      "      State    Country     Lat     Long       Date  Confirmed_cases  \\\n",
      "22931   NaN  Venezuela  6.4238 -66.5897 2020-04-17              204   \n",
      "\n",
      "       Death_cases  \n",
      "22931            9  \n",
      "204\n",
      "Vietnam\n",
      "      State  Country   Lat   Long       Date  Confirmed_cases  Death_cases\n",
      "22932   NaN  Vietnam  16.0  108.0 2020-04-17              268            0\n",
      "268\n",
      "Zambia\n",
      "      State Country      Lat     Long       Date  Confirmed_cases  Death_cases\n",
      "22933   NaN  Zambia -15.4167  28.2833 2020-04-17               52            2\n",
      "52\n",
      "Zimbabwe\n",
      "      State   Country   Lat  Long       Date  Confirmed_cases  Death_cases\n",
      "22934   NaN  Zimbabwe -20.0  30.0 2020-04-17               24            3\n",
      "24\n",
      "Dominica\n",
      "      State   Country     Lat    Long       Date  Confirmed_cases  Death_cases\n",
      "22936   NaN  Dominica  15.415 -61.371 2020-04-17               16            0\n",
      "16\n",
      "Grenada\n",
      "      State  Country      Lat    Long       Date  Confirmed_cases  Death_cases\n",
      "22937   NaN  Grenada  12.1165 -61.679 2020-04-17               14            0\n",
      "14\n",
      "Mozambique\n",
      "      State     Country        Lat       Long       Date  Confirmed_cases  \\\n",
      "22938   NaN  Mozambique -18.665695  35.529562 2020-04-17               34   \n",
      "\n",
      "       Death_cases  \n",
      "22938            0  \n",
      "34\n",
      "Syria\n",
      "      State Country        Lat       Long       Date  Confirmed_cases  \\\n",
      "22939   NaN   Syria  34.802075  38.996815 2020-04-17               38   \n",
      "\n",
      "       Death_cases  \n",
      "22939            2  \n",
      "38\n",
      "Timor-Leste\n",
      "      State      Country       Lat        Long       Date  Confirmed_cases  \\\n",
      "22940   NaN  Timor-Leste -8.874217  125.727539 2020-04-17               18   \n",
      "\n",
      "       Death_cases  \n",
      "22940            0  \n",
      "18\n"
     ]
    },
    {
     "name": "stdout",
     "output_type": "stream",
     "text": [
      "Belize\n",
      "      State Country      Lat     Long       Date  Confirmed_cases  Death_cases\n",
      "22941   NaN  Belize  13.1939 -59.5432 2020-04-17               18            2\n",
      "18\n",
      "Laos\n",
      "      State Country       Lat        Long       Date  Confirmed_cases  \\\n",
      "22943   NaN    Laos  19.85627  102.495496 2020-04-17               19   \n",
      "\n",
      "       Death_cases  \n",
      "22943            0  \n",
      "19\n",
      "Libya\n",
      "      State Country      Lat       Long       Date  Confirmed_cases  \\\n",
      "22944   NaN   Libya  26.3351  17.228331 2020-04-17               49   \n",
      "\n",
      "       Death_cases  \n",
      "22944            1  \n",
      "49\n",
      "West Bank and Gaza\n",
      "      State             Country      Lat     Long       Date  Confirmed_cases  \\\n",
      "22945   NaN  West Bank and Gaza  31.9522  35.2332 2020-04-17              402   \n",
      "\n",
      "       Death_cases  \n",
      "22945            2  \n",
      "402\n",
      "Guinea-Bissau\n",
      "      State        Country      Lat     Long       Date  Confirmed_cases  \\\n",
      "22946   NaN  Guinea-Bissau  11.8037 -15.1804 2020-04-17               43   \n",
      "\n",
      "       Death_cases  \n",
      "22946            0  \n",
      "43\n",
      "Mali\n",
      "      State Country        Lat      Long       Date  Confirmed_cases  \\\n",
      "22947   NaN    Mali  17.570692 -3.996166 2020-04-17              171   \n",
      "\n",
      "       Death_cases  \n",
      "22947           13  \n",
      "171\n",
      "Saint Kitts and Nevis\n",
      "      State                Country        Lat       Long       Date  \\\n",
      "22948   NaN  Saint Kitts and Nevis  17.357822 -62.782998 2020-04-17   \n",
      "\n",
      "       Confirmed_cases  Death_cases  \n",
      "22948               14            0  \n",
      "14\n",
      "Kosovo\n",
      "      State Country        Lat       Long       Date  Confirmed_cases  \\\n",
      "22951   NaN  Kosovo  42.602636  20.902977 2020-04-17              480   \n",
      "\n",
      "       Death_cases  \n",
      "22951           12  \n",
      "480\n",
      "Burma\n",
      "      State Country      Lat    Long       Date  Confirmed_cases  Death_cases\n",
      "22952   NaN   Burma  21.9162  95.956 2020-04-17               88            4\n",
      "88\n",
      "MS Zaandam\n",
      "      State     Country  Lat  Long       Date  Confirmed_cases  Death_cases\n",
      "22956   NaN  MS Zaandam  0.0   0.0 2020-04-17                9            2\n",
      "9\n",
      "Botswana\n",
      "      State   Country      Lat     Long       Date  Confirmed_cases  \\\n",
      "22957   NaN  Botswana -22.3285  24.6849 2020-04-17               15   \n",
      "\n",
      "       Death_cases  \n",
      "22957            1  \n",
      "15\n",
      "Burundi\n",
      "      State  Country     Lat     Long       Date  Confirmed_cases  Death_cases\n",
      "22958   NaN  Burundi -3.3731  29.9189 2020-04-17                5            1\n",
      "5\n",
      "Sierra Leone\n",
      "      State       Country       Lat       Long       Date  Confirmed_cases  \\\n",
      "22959   NaN  Sierra Leone  8.460555 -11.779889 2020-04-17               26   \n",
      "\n",
      "       Death_cases  \n",
      "22959            0  \n",
      "26\n",
      "Malawi\n",
      "      State Country        Lat       Long       Date  Confirmed_cases  \\\n",
      "22961   NaN  Malawi -13.254308  34.301525 2020-04-17               17   \n",
      "\n",
      "       Death_cases  \n",
      "22961            2  \n",
      "17\n",
      "South Sudan\n",
      "      State      Country    Lat    Long       Date  Confirmed_cases  \\\n",
      "22964   NaN  South Sudan  6.877  31.307 2020-04-17                4   \n",
      "\n",
      "       Death_cases  \n",
      "22964            0  \n",
      "4\n",
      "Western Sahara\n",
      "      State         Country      Lat     Long       Date  Confirmed_cases  \\\n",
      "22965   NaN  Western Sahara  24.2155 -12.8858 2020-04-17                6   \n",
      "\n",
      "       Death_cases  \n",
      "22965            0  \n",
      "6\n",
      "Sao Tome and Principe\n",
      "      State                Country      Lat      Long       Date  \\\n",
      "22966   NaN  Sao Tome and Principe  0.18636  6.613081 2020-04-17   \n",
      "\n",
      "       Confirmed_cases  Death_cases  \n",
      "22966                4            0  \n",
      "4\n",
      "Yemen\n",
      "      State Country        Lat       Long       Date  Confirmed_cases  \\\n",
      "22967   NaN   Yemen  15.552727  48.516388 2020-04-17                1   \n",
      "\n",
      "       Death_cases  \n",
      "22967            0  \n",
      "1\n"
     ]
    }
   ],
   "source": [
    "for country in unique_country_list:\n",
    "    print(country)\n",
    "    subset_df = combined_df[(combined_df[\"Country\"] == country) & (combined_df['Date']==date)]\n",
    "    print(subset_df)\n",
    "    total = subset_df['Confirmed_cases'].sum() \n",
    "    print(total)\n",
    "    new_df.loc[new_df['Country'] == country, 'Confirmed Cases'] = total"
   ]
  },
  {
   "cell_type": "code",
   "execution_count": 26,
   "metadata": {},
   "outputs": [
    {
     "data": {
      "text/html": [
       "<div>\n",
       "<style scoped>\n",
       "    .dataframe tbody tr th:only-of-type {\n",
       "        vertical-align: middle;\n",
       "    }\n",
       "\n",
       "    .dataframe tbody tr th {\n",
       "        vertical-align: top;\n",
       "    }\n",
       "\n",
       "    .dataframe thead th {\n",
       "        text-align: right;\n",
       "    }\n",
       "</style>\n",
       "<table border=\"1\" class=\"dataframe\">\n",
       "  <thead>\n",
       "    <tr style=\"text-align: right;\">\n",
       "      <th></th>\n",
       "      <th>Country</th>\n",
       "      <th>Confirmed Cases</th>\n",
       "      <th>Death Cases</th>\n",
       "    </tr>\n",
       "  </thead>\n",
       "  <tbody>\n",
       "    <tr>\n",
       "      <td>0</td>\n",
       "      <td>Afghanistan</td>\n",
       "      <td>906</td>\n",
       "      <td>NaN</td>\n",
       "    </tr>\n",
       "    <tr>\n",
       "      <td>1</td>\n",
       "      <td>Albania</td>\n",
       "      <td>539</td>\n",
       "      <td>NaN</td>\n",
       "    </tr>\n",
       "    <tr>\n",
       "      <td>2</td>\n",
       "      <td>Algeria</td>\n",
       "      <td>2418</td>\n",
       "      <td>NaN</td>\n",
       "    </tr>\n",
       "  </tbody>\n",
       "</table>\n",
       "</div>"
      ],
      "text/plain": [
       "       Country Confirmed Cases Death Cases\n",
       "0  Afghanistan             906         NaN\n",
       "1      Albania             539         NaN\n",
       "2      Algeria            2418         NaN"
      ]
     },
     "execution_count": 26,
     "metadata": {},
     "output_type": "execute_result"
    }
   ],
   "source": [
    "new_df.head(3)"
   ]
  },
  {
   "cell_type": "code",
   "execution_count": 27,
   "metadata": {},
   "outputs": [
    {
     "name": "stdout",
     "output_type": "stream",
     "text": [
      "Afghanistan\n",
      "30\n",
      "Albania\n",
      "26\n",
      "Algeria\n",
      "364\n",
      "Andorra\n",
      "35\n",
      "Angola\n",
      "2\n",
      "Antigua and Barbuda\n",
      "3\n",
      "Argentina\n",
      "123\n",
      "Armenia\n",
      "19\n",
      "Australia\n",
      "66\n",
      "Austria\n",
      "431\n",
      "Azerbaijan\n",
      "15\n",
      "Bahamas\n",
      "9\n",
      "Bahrain\n",
      "7\n",
      "Bangladesh\n",
      "75\n",
      "Barbados\n",
      "5\n",
      "Belarus\n",
      "42\n",
      "Belgium\n",
      "5163\n",
      "Benin\n",
      "1\n",
      "Bhutan\n",
      "0\n",
      "Bolivia\n",
      "31\n",
      "Bosnia and Herzegovina\n",
      "46\n",
      "Brazil\n",
      "2141\n",
      "Brunei\n",
      "1\n",
      "Bulgaria\n",
      "41\n",
      "Burkina Faso\n",
      "35\n",
      "Cabo Verde\n",
      "1\n",
      "Cambodia\n",
      "0\n",
      "Cameroon\n",
      "22\n",
      "Canada\n",
      "1354\n",
      "Central African Republic\n",
      "0\n",
      "Chad\n",
      "0\n",
      "Chile\n",
      "116\n",
      "China\n",
      "4636\n",
      "Colombia\n",
      "153\n",
      "Congo (Brazzaville)\n",
      "6\n",
      "Congo (Kinshasa)\n",
      "23\n",
      "Costa Rica\n",
      "4\n",
      "Cote d'Ivoire\n",
      "6\n",
      "Croatia\n",
      "36\n",
      "Diamond Princess\n",
      "13\n",
      "Cuba\n",
      "31\n",
      "Cyprus\n",
      "12\n",
      "Czechia\n",
      "173\n",
      "Denmark\n",
      "336\n",
      "Djibouti\n",
      "2\n",
      "Dominican Republic\n",
      "200\n",
      "Ecuador\n",
      "421\n",
      "Egypt\n",
      "205\n",
      "El Salvador\n",
      "7\n",
      "Equatorial Guinea\n",
      "0\n",
      "Eritrea\n",
      "0\n",
      "Estonia\n",
      "38\n",
      "Eswatini\n",
      "1\n",
      "Ethiopia\n",
      "3\n",
      "Fiji\n",
      "0\n",
      "Finland\n",
      "82\n",
      "France\n",
      "18703\n",
      "Gabon\n",
      "1\n",
      "Gambia\n",
      "1\n",
      "Georgia\n",
      "3\n",
      "Germany\n",
      "4352\n",
      "Ghana\n",
      "8\n",
      "Greece\n",
      "108\n",
      "Guatemala\n",
      "7\n",
      "Guinea\n",
      "3\n",
      "Guyana\n",
      "6\n",
      "Haiti\n",
      "3\n",
      "Holy See\n",
      "0\n",
      "Honduras\n",
      "41\n",
      "Hungary\n",
      "156\n",
      "Iceland\n",
      "9\n",
      "India\n",
      "486\n",
      "Indonesia\n",
      "520\n",
      "Iran\n",
      "4958\n",
      "Iraq\n",
      "81\n",
      "Ireland\n",
      "530\n",
      "Israel\n",
      "151\n",
      "Italy\n",
      "22745\n",
      "Jamaica\n",
      "5\n",
      "Japan\n",
      "190\n",
      "Jordan\n",
      "7\n",
      "Kazakhstan\n",
      "17\n",
      "Kenya\n",
      "11\n",
      "Korea, South\n",
      "230\n",
      "Kuwait\n",
      "5\n",
      "Kyrgyzstan\n",
      "5\n",
      "Latvia\n",
      "5\n",
      "Lebanon\n",
      "21\n",
      "Liberia\n",
      "7\n",
      "Liechtenstein\n",
      "1\n",
      "Lithuania\n",
      "33\n",
      "Luxembourg\n",
      "72\n",
      "Madagascar\n",
      "0\n",
      "Malaysia\n",
      "86\n",
      "Maldives\n",
      "0\n",
      "Malta\n",
      "3\n",
      "Mauritania\n",
      "1\n",
      "Mauritius\n",
      "9\n",
      "Mexico\n",
      "486\n",
      "Moldova\n",
      "56\n",
      "Monaco\n",
      "3\n",
      "Mongolia\n",
      "0\n",
      "Montenegro\n",
      "5\n",
      "Morocco\n",
      "135\n",
      "Namibia\n",
      "0\n",
      "Nepal\n",
      "0\n",
      "Netherlands\n",
      "3471\n",
      "New Zealand\n",
      "11\n",
      "Nicaragua\n",
      "1\n",
      "Niger\n",
      "18\n",
      "Nigeria\n",
      "17\n",
      "North Macedonia\n",
      "49\n",
      "Norway\n",
      "161\n",
      "Oman\n",
      "6\n",
      "Pakistan\n",
      "135\n",
      "Panama\n",
      "109\n",
      "Papua New Guinea\n",
      "0\n",
      "Paraguay\n",
      "8\n",
      "Peru\n",
      "300\n",
      "Philippines\n",
      "387\n",
      "Poland\n",
      "332\n",
      "Portugal\n",
      "657\n",
      "Qatar\n",
      "7\n",
      "Romania\n",
      "411\n",
      "Russia\n",
      "273\n",
      "Rwanda\n",
      "0\n",
      "Saint Lucia\n",
      "0\n",
      "Saint Vincent and the Grenadines\n",
      "0\n",
      "San Marino\n",
      "39\n",
      "Saudi Arabia\n",
      "87\n",
      "Senegal\n",
      "2\n",
      "Serbia\n",
      "110\n",
      "Seychelles\n",
      "0\n",
      "Singapore\n",
      "11\n",
      "Slovakia\n",
      "9\n",
      "Slovenia\n",
      "66\n",
      "Somalia\n",
      "6\n",
      "South Africa\n",
      "50\n",
      "Spain\n",
      "20002\n",
      "Sri Lanka\n",
      "7\n",
      "Sudan\n",
      "6\n",
      "Suriname\n",
      "1\n",
      "Sweden\n",
      "1400\n",
      "Switzerland\n",
      "1327\n",
      "Taiwan*\n",
      "6\n",
      "Tanzania\n",
      "5\n",
      "Thailand\n",
      "47\n",
      "Togo\n",
      "5\n",
      "Trinidad and Tobago\n",
      "8\n",
      "Tunisia\n",
      "37\n",
      "Turkey\n",
      "1769\n",
      "Uganda\n",
      "0\n",
      "Ukraine\n",
      "125\n",
      "United Arab Emirates\n",
      "37\n",
      "United Kingdom\n",
      "14607\n",
      "Uruguay\n",
      "9\n",
      "US\n",
      "36773\n",
      "Uzbekistan\n",
      "4\n",
      "Venezuela\n",
      "9\n",
      "Vietnam\n",
      "0\n",
      "Zambia\n",
      "2\n",
      "Zimbabwe\n",
      "3\n",
      "Dominica\n",
      "0\n",
      "Grenada\n",
      "0\n",
      "Mozambique\n",
      "0\n",
      "Syria\n",
      "2\n",
      "Timor-Leste\n",
      "0\n",
      "Belize\n",
      "2\n",
      "Laos\n",
      "0\n",
      "Libya\n",
      "1\n",
      "West Bank and Gaza\n",
      "2\n",
      "Guinea-Bissau\n",
      "0\n",
      "Mali\n",
      "13\n",
      "Saint Kitts and Nevis\n",
      "0\n",
      "Kosovo\n",
      "12\n",
      "Burma\n",
      "4\n",
      "MS Zaandam\n",
      "2\n",
      "Botswana\n",
      "1\n",
      "Burundi\n",
      "1\n",
      "Sierra Leone\n",
      "0\n",
      "Malawi\n",
      "2\n",
      "South Sudan\n",
      "0\n",
      "Western Sahara\n",
      "0\n",
      "Sao Tome and Principe\n",
      "0\n",
      "Yemen\n",
      "0\n"
     ]
    }
   ],
   "source": [
    "for country in unique_country_list:\n",
    "    print(country)\n",
    "    subset_df = combined_df[(combined_df[\"Country\"] == country) & (combined_df['Date']==date)]\n",
    "    total = subset_df['Death_cases'].sum()\n",
    "    print(total)\n",
    "    new_df.loc[new_df['Country'] == country, 'Death Cases'] = total"
   ]
  },
  {
   "cell_type": "code",
   "execution_count": 28,
   "metadata": {},
   "outputs": [
    {
     "data": {
      "text/html": [
       "<div>\n",
       "<style scoped>\n",
       "    .dataframe tbody tr th:only-of-type {\n",
       "        vertical-align: middle;\n",
       "    }\n",
       "\n",
       "    .dataframe tbody tr th {\n",
       "        vertical-align: top;\n",
       "    }\n",
       "\n",
       "    .dataframe thead th {\n",
       "        text-align: right;\n",
       "    }\n",
       "</style>\n",
       "<table border=\"1\" class=\"dataframe\">\n",
       "  <thead>\n",
       "    <tr style=\"text-align: right;\">\n",
       "      <th></th>\n",
       "      <th>Country</th>\n",
       "      <th>Confirmed Cases</th>\n",
       "      <th>Death Cases</th>\n",
       "    </tr>\n",
       "  </thead>\n",
       "  <tbody>\n",
       "    <tr>\n",
       "      <td>0</td>\n",
       "      <td>Afghanistan</td>\n",
       "      <td>906</td>\n",
       "      <td>30</td>\n",
       "    </tr>\n",
       "    <tr>\n",
       "      <td>1</td>\n",
       "      <td>Albania</td>\n",
       "      <td>539</td>\n",
       "      <td>26</td>\n",
       "    </tr>\n",
       "    <tr>\n",
       "      <td>2</td>\n",
       "      <td>Algeria</td>\n",
       "      <td>2418</td>\n",
       "      <td>364</td>\n",
       "    </tr>\n",
       "  </tbody>\n",
       "</table>\n",
       "</div>"
      ],
      "text/plain": [
       "       Country Confirmed Cases Death Cases\n",
       "0  Afghanistan             906          30\n",
       "1      Albania             539          26\n",
       "2      Algeria            2418         364"
      ]
     },
     "execution_count": 28,
     "metadata": {},
     "output_type": "execute_result"
    }
   ],
   "source": [
    "new_df.head(3)"
   ]
  },
  {
   "cell_type": "code",
   "execution_count": 29,
   "metadata": {},
   "outputs": [],
   "source": [
    "new_df[\"Confirmed Cases\"] = new_df[\"Confirmed Cases\"].astype(str)\n",
    "new_df[\"Confirmed Cases\"] = new_df[\"Confirmed Cases\"].astype(float)\n",
    "\n",
    "new_df[\"Death Cases\"] = new_df[\"Death Cases\"].astype(str)\n",
    "new_df[\"Death Cases\"] = new_df[\"Death Cases\"].astype(float)"
   ]
  },
  {
   "cell_type": "code",
   "execution_count": 60,
   "metadata": {},
   "outputs": [],
   "source": [
    "fig = px.choropleth(new_df,  # Input Pandas DataFrame\n",
    "                    locations=\"Country\",  # DataFrame column with locations\n",
    "                    color=\"Confirmed Cases\",  # DataFrame column with color values\n",
    "                    hover_data=[\"Confirmed Cases\", \"Death Cases\"], # DataFrame column hover info\n",
    "                    locationmode = 'country names',\n",
    "                    color_continuous_scale=\"Viridis\",\n",
    "                    ) # Set to plot   "
   ]
  },
  {
   "cell_type": "code",
   "execution_count": 63,
   "metadata": {},
   "outputs": [
    {
     "data": {
      "application/vnd.plotly.v1+json": {
       "config": {
        "plotlyServerURL": "https://plot.ly"
       },
       "data": [
        {
         "coloraxis": "coloraxis",
         "customdata": [
          [
           906,
           30
          ],
          [
           539,
           26
          ],
          [
           2418,
           364
          ],
          [
           696,
           35
          ],
          [
           19,
           2
          ],
          [
           23,
           3
          ],
          [
           2669,
           123
          ],
          [
           1201,
           19
          ],
          [
           6522,
           66
          ],
          [
           14595,
           431
          ],
          [
           1340,
           15
          ],
          [
           54,
           9
          ],
          [
           1740,
           7
          ],
          [
           1838,
           75
          ],
          [
           75,
           5
          ],
          [
           4779,
           42
          ],
          [
           36138,
           5163
          ],
          [
           35,
           1
          ],
          [
           5,
           0
          ],
          [
           465,
           31
          ],
          [
           1214,
           46
          ],
          [
           33682,
           2141
          ],
          [
           136,
           1
          ],
          [
           846,
           41
          ],
          [
           557,
           35
          ],
          [
           56,
           1
          ],
          [
           122,
           0
          ],
          [
           996,
           22
          ],
          [
           32813,
           1354
          ],
          [
           12,
           0
          ],
          [
           27,
           0
          ],
          [
           9252,
           116
          ],
          [
           83760,
           4636
          ],
          [
           3439,
           153
          ],
          [
           143,
           6
          ],
          [
           287,
           23
          ],
          [
           649,
           4
          ],
          [
           688,
           6
          ],
          [
           1814,
           36
          ],
          [
           712,
           13
          ],
          [
           923,
           31
          ],
          [
           750,
           12
          ],
          [
           6549,
           173
          ],
          [
           7268,
           336
          ],
          [
           732,
           2
          ],
          [
           4126,
           200
          ],
          [
           8450,
           421
          ],
          [
           2844,
           205
          ],
          [
           177,
           7
          ],
          [
           79,
           0
          ],
          [
           35,
           0
          ],
          [
           1459,
           38
          ],
          [
           16,
           1
          ],
          [
           96,
           3
          ],
          [
           17,
           0
          ],
          [
           3489,
           82
          ],
          [
           149130,
           18703
          ],
          [
           108,
           1
          ],
          [
           9,
           1
          ],
          [
           370,
           3
          ],
          [
           141397,
           4352
          ],
          [
           641,
           8
          ],
          [
           2224,
           108
          ],
          [
           214,
           7
          ],
          [
           477,
           3
          ],
          [
           63,
           6
          ],
          [
           43,
           3
          ],
          [
           8,
           0
          ],
          [
           442,
           41
          ],
          [
           1763,
           156
          ],
          [
           1754,
           9
          ],
          [
           14352,
           486
          ],
          [
           5923,
           520
          ],
          [
           79494,
           4958
          ],
          [
           1482,
           81
          ],
          [
           13980,
           530
          ],
          [
           12982,
           151
          ],
          [
           172434,
           22745
          ],
          [
           143,
           5
          ],
          [
           9787,
           190
          ],
          [
           407,
           7
          ],
          [
           1546,
           17
          ],
          [
           246,
           11
          ],
          [
           10635,
           230
          ],
          [
           1658,
           5
          ],
          [
           489,
           5
          ],
          [
           682,
           5
          ],
          [
           668,
           21
          ],
          [
           76,
           7
          ],
          [
           79,
           1
          ],
          [
           1149,
           33
          ],
          [
           3480,
           72
          ],
          [
           117,
           0
          ],
          [
           5251,
           86
          ],
          [
           28,
           0
          ],
          [
           422,
           3
          ],
          [
           7,
           1
          ],
          [
           324,
           9
          ],
          [
           6297,
           486
          ],
          [
           2264,
           56
          ],
          [
           94,
           3
          ],
          [
           31,
           0
          ],
          [
           303,
           5
          ],
          [
           2564,
           135
          ],
          [
           16,
           0
          ],
          [
           30,
           0
          ],
          [
           30619,
           3471
          ],
          [
           1409,
           11
          ],
          [
           9,
           1
          ],
          [
           627,
           18
          ],
          [
           493,
           17
          ],
          [
           1117,
           49
          ],
          [
           6937,
           161
          ],
          [
           1069,
           6
          ],
          [
           7025,
           135
          ],
          [
           4016,
           109
          ],
          [
           7,
           0
          ],
          [
           199,
           8
          ],
          [
           13489,
           300
          ],
          [
           5878,
           387
          ],
          [
           8379,
           332
          ],
          [
           19022,
           657
          ],
          [
           4663,
           7
          ],
          [
           8067,
           411
          ],
          [
           32008,
           273
          ],
          [
           143,
           0
          ],
          [
           15,
           0
          ],
          [
           12,
           0
          ],
          [
           435,
           39
          ],
          [
           7142,
           87
          ],
          [
           342,
           2
          ],
          [
           5690,
           110
          ],
          [
           11,
           0
          ],
          [
           5050,
           11
          ],
          [
           1049,
           9
          ],
          [
           1304,
           66
          ],
          [
           116,
           6
          ],
          [
           2783,
           50
          ],
          [
           190839,
           20002
          ],
          [
           244,
           7
          ],
          [
           33,
           6
          ],
          [
           10,
           1
          ],
          [
           13216,
           1400
          ],
          [
           27078,
           1327
          ],
          [
           395,
           6
          ],
          [
           147,
           5
          ],
          [
           2700,
           47
          ],
          [
           83,
           5
          ],
          [
           114,
           8
          ],
          [
           864,
           37
          ],
          [
           78546,
           1769
          ],
          [
           56,
           0
          ],
          [
           4662,
           125
          ],
          [
           6302,
           37
          ],
          [
           109769,
           14607
          ],
          [
           502,
           9
          ],
          [
           699706,
           36773
          ],
          [
           1405,
           4
          ],
          [
           204,
           9
          ],
          [
           268,
           0
          ],
          [
           52,
           2
          ],
          [
           24,
           3
          ],
          [
           16,
           0
          ],
          [
           14,
           0
          ],
          [
           34,
           0
          ],
          [
           38,
           2
          ],
          [
           18,
           0
          ],
          [
           18,
           2
          ],
          [
           19,
           0
          ],
          [
           49,
           1
          ],
          [
           402,
           2
          ],
          [
           43,
           0
          ],
          [
           171,
           13
          ],
          [
           14,
           0
          ],
          [
           480,
           12
          ],
          [
           88,
           4
          ],
          [
           9,
           2
          ],
          [
           15,
           1
          ],
          [
           5,
           1
          ],
          [
           26,
           0
          ],
          [
           17,
           2
          ],
          [
           4,
           0
          ],
          [
           6,
           0
          ],
          [
           4,
           0
          ],
          [
           1,
           0
          ]
         ],
         "geo": "geo",
         "hovertemplate": "Confirmed Cases=%{z}<br>Death Cases=%{customdata[1]}<br>Country=%{location}<extra></extra>",
         "locationmode": "country names",
         "locations": [
          "Afghanistan",
          "Albania",
          "Algeria",
          "Andorra",
          "Angola",
          "Antigua and Barbuda",
          "Argentina",
          "Armenia",
          "Australia",
          "Austria",
          "Azerbaijan",
          "Bahamas",
          "Bahrain",
          "Bangladesh",
          "Barbados",
          "Belarus",
          "Belgium",
          "Benin",
          "Bhutan",
          "Bolivia",
          "Bosnia and Herzegovina",
          "Brazil",
          "Brunei",
          "Bulgaria",
          "Burkina Faso",
          "Cabo Verde",
          "Cambodia",
          "Cameroon",
          "Canada",
          "Central African Republic",
          "Chad",
          "Chile",
          "China",
          "Colombia",
          "Congo (Brazzaville)",
          "Congo (Kinshasa)",
          "Costa Rica",
          "Cote d'Ivoire",
          "Croatia",
          "Diamond Princess",
          "Cuba",
          "Cyprus",
          "Czechia",
          "Denmark",
          "Djibouti",
          "Dominican Republic",
          "Ecuador",
          "Egypt",
          "El Salvador",
          "Equatorial Guinea",
          "Eritrea",
          "Estonia",
          "Eswatini",
          "Ethiopia",
          "Fiji",
          "Finland",
          "France",
          "Gabon",
          "Gambia",
          "Georgia",
          "Germany",
          "Ghana",
          "Greece",
          "Guatemala",
          "Guinea",
          "Guyana",
          "Haiti",
          "Holy See",
          "Honduras",
          "Hungary",
          "Iceland",
          "India",
          "Indonesia",
          "Iran",
          "Iraq",
          "Ireland",
          "Israel",
          "Italy",
          "Jamaica",
          "Japan",
          "Jordan",
          "Kazakhstan",
          "Kenya",
          "Korea, South",
          "Kuwait",
          "Kyrgyzstan",
          "Latvia",
          "Lebanon",
          "Liberia",
          "Liechtenstein",
          "Lithuania",
          "Luxembourg",
          "Madagascar",
          "Malaysia",
          "Maldives",
          "Malta",
          "Mauritania",
          "Mauritius",
          "Mexico",
          "Moldova",
          "Monaco",
          "Mongolia",
          "Montenegro",
          "Morocco",
          "Namibia",
          "Nepal",
          "Netherlands",
          "New Zealand",
          "Nicaragua",
          "Niger",
          "Nigeria",
          "North Macedonia",
          "Norway",
          "Oman",
          "Pakistan",
          "Panama",
          "Papua New Guinea",
          "Paraguay",
          "Peru",
          "Philippines",
          "Poland",
          "Portugal",
          "Qatar",
          "Romania",
          "Russia",
          "Rwanda",
          "Saint Lucia",
          "Saint Vincent and the Grenadines",
          "San Marino",
          "Saudi Arabia",
          "Senegal",
          "Serbia",
          "Seychelles",
          "Singapore",
          "Slovakia",
          "Slovenia",
          "Somalia",
          "South Africa",
          "Spain",
          "Sri Lanka",
          "Sudan",
          "Suriname",
          "Sweden",
          "Switzerland",
          "Taiwan*",
          "Tanzania",
          "Thailand",
          "Togo",
          "Trinidad and Tobago",
          "Tunisia",
          "Turkey",
          "Uganda",
          "Ukraine",
          "United Arab Emirates",
          "United Kingdom",
          "Uruguay",
          "US",
          "Uzbekistan",
          "Venezuela",
          "Vietnam",
          "Zambia",
          "Zimbabwe",
          "Dominica",
          "Grenada",
          "Mozambique",
          "Syria",
          "Timor-Leste",
          "Belize",
          "Laos",
          "Libya",
          "West Bank and Gaza",
          "Guinea-Bissau",
          "Mali",
          "Saint Kitts and Nevis",
          "Kosovo",
          "Burma",
          "MS Zaandam",
          "Botswana",
          "Burundi",
          "Sierra Leone",
          "Malawi",
          "South Sudan",
          "Western Sahara",
          "Sao Tome and Principe",
          "Yemen"
         ],
         "name": "",
         "type": "choropleth",
         "z": [
          906,
          539,
          2418,
          696,
          19,
          23,
          2669,
          1201,
          6522,
          14595,
          1340,
          54,
          1740,
          1838,
          75,
          4779,
          36138,
          35,
          5,
          465,
          1214,
          33682,
          136,
          846,
          557,
          56,
          122,
          996,
          32813,
          12,
          27,
          9252,
          83760,
          3439,
          143,
          287,
          649,
          688,
          1814,
          712,
          923,
          750,
          6549,
          7268,
          732,
          4126,
          8450,
          2844,
          177,
          79,
          35,
          1459,
          16,
          96,
          17,
          3489,
          149130,
          108,
          9,
          370,
          141397,
          641,
          2224,
          214,
          477,
          63,
          43,
          8,
          442,
          1763,
          1754,
          14352,
          5923,
          79494,
          1482,
          13980,
          12982,
          172434,
          143,
          9787,
          407,
          1546,
          246,
          10635,
          1658,
          489,
          682,
          668,
          76,
          79,
          1149,
          3480,
          117,
          5251,
          28,
          422,
          7,
          324,
          6297,
          2264,
          94,
          31,
          303,
          2564,
          16,
          30,
          30619,
          1409,
          9,
          627,
          493,
          1117,
          6937,
          1069,
          7025,
          4016,
          7,
          199,
          13489,
          5878,
          8379,
          19022,
          4663,
          8067,
          32008,
          143,
          15,
          12,
          435,
          7142,
          342,
          5690,
          11,
          5050,
          1049,
          1304,
          116,
          2783,
          190839,
          244,
          33,
          10,
          13216,
          27078,
          395,
          147,
          2700,
          83,
          114,
          864,
          78546,
          56,
          4662,
          6302,
          109769,
          502,
          699706,
          1405,
          204,
          268,
          52,
          24,
          16,
          14,
          34,
          38,
          18,
          18,
          19,
          49,
          402,
          43,
          171,
          14,
          480,
          88,
          9,
          15,
          5,
          26,
          17,
          4,
          6,
          4,
          1
         ]
        }
       ],
       "layout": {
        "coloraxis": {
         "colorbar": {
          "title": {
           "text": "Confirmed Cases"
          }
         },
         "colorscale": [
          [
           0,
           "#440154"
          ],
          [
           0.1111111111111111,
           "#482878"
          ],
          [
           0.2222222222222222,
           "#3e4989"
          ],
          [
           0.3333333333333333,
           "#31688e"
          ],
          [
           0.4444444444444444,
           "#26828e"
          ],
          [
           0.5555555555555556,
           "#1f9e89"
          ],
          [
           0.6666666666666666,
           "#35b779"
          ],
          [
           0.7777777777777778,
           "#6ece58"
          ],
          [
           0.8888888888888888,
           "#b5de2b"
          ],
          [
           1,
           "#fde725"
          ]
         ]
        },
        "geo": {
         "center": {},
         "domain": {
          "x": [
           0,
           1
          ],
          "y": [
           0,
           1
          ]
         },
         "fitbounds": "locations",
         "visible": false
        },
        "legend": {
         "tracegroupgap": 0
        },
        "margin": {
         "b": 0,
         "l": 0,
         "r": 0,
         "t": 100
        },
        "template": {
         "data": {
          "bar": [
           {
            "error_x": {
             "color": "#2a3f5f"
            },
            "error_y": {
             "color": "#2a3f5f"
            },
            "marker": {
             "line": {
              "color": "#E5ECF6",
              "width": 0.5
             }
            },
            "type": "bar"
           }
          ],
          "barpolar": [
           {
            "marker": {
             "line": {
              "color": "#E5ECF6",
              "width": 0.5
             }
            },
            "type": "barpolar"
           }
          ],
          "carpet": [
           {
            "aaxis": {
             "endlinecolor": "#2a3f5f",
             "gridcolor": "white",
             "linecolor": "white",
             "minorgridcolor": "white",
             "startlinecolor": "#2a3f5f"
            },
            "baxis": {
             "endlinecolor": "#2a3f5f",
             "gridcolor": "white",
             "linecolor": "white",
             "minorgridcolor": "white",
             "startlinecolor": "#2a3f5f"
            },
            "type": "carpet"
           }
          ],
          "choropleth": [
           {
            "colorbar": {
             "outlinewidth": 0,
             "ticks": ""
            },
            "type": "choropleth"
           }
          ],
          "contour": [
           {
            "colorbar": {
             "outlinewidth": 0,
             "ticks": ""
            },
            "colorscale": [
             [
              0,
              "#0d0887"
             ],
             [
              0.1111111111111111,
              "#46039f"
             ],
             [
              0.2222222222222222,
              "#7201a8"
             ],
             [
              0.3333333333333333,
              "#9c179e"
             ],
             [
              0.4444444444444444,
              "#bd3786"
             ],
             [
              0.5555555555555556,
              "#d8576b"
             ],
             [
              0.6666666666666666,
              "#ed7953"
             ],
             [
              0.7777777777777778,
              "#fb9f3a"
             ],
             [
              0.8888888888888888,
              "#fdca26"
             ],
             [
              1,
              "#f0f921"
             ]
            ],
            "type": "contour"
           }
          ],
          "contourcarpet": [
           {
            "colorbar": {
             "outlinewidth": 0,
             "ticks": ""
            },
            "type": "contourcarpet"
           }
          ],
          "heatmap": [
           {
            "colorbar": {
             "outlinewidth": 0,
             "ticks": ""
            },
            "colorscale": [
             [
              0,
              "#0d0887"
             ],
             [
              0.1111111111111111,
              "#46039f"
             ],
             [
              0.2222222222222222,
              "#7201a8"
             ],
             [
              0.3333333333333333,
              "#9c179e"
             ],
             [
              0.4444444444444444,
              "#bd3786"
             ],
             [
              0.5555555555555556,
              "#d8576b"
             ],
             [
              0.6666666666666666,
              "#ed7953"
             ],
             [
              0.7777777777777778,
              "#fb9f3a"
             ],
             [
              0.8888888888888888,
              "#fdca26"
             ],
             [
              1,
              "#f0f921"
             ]
            ],
            "type": "heatmap"
           }
          ],
          "heatmapgl": [
           {
            "colorbar": {
             "outlinewidth": 0,
             "ticks": ""
            },
            "colorscale": [
             [
              0,
              "#0d0887"
             ],
             [
              0.1111111111111111,
              "#46039f"
             ],
             [
              0.2222222222222222,
              "#7201a8"
             ],
             [
              0.3333333333333333,
              "#9c179e"
             ],
             [
              0.4444444444444444,
              "#bd3786"
             ],
             [
              0.5555555555555556,
              "#d8576b"
             ],
             [
              0.6666666666666666,
              "#ed7953"
             ],
             [
              0.7777777777777778,
              "#fb9f3a"
             ],
             [
              0.8888888888888888,
              "#fdca26"
             ],
             [
              1,
              "#f0f921"
             ]
            ],
            "type": "heatmapgl"
           }
          ],
          "histogram": [
           {
            "marker": {
             "colorbar": {
              "outlinewidth": 0,
              "ticks": ""
             }
            },
            "type": "histogram"
           }
          ],
          "histogram2d": [
           {
            "colorbar": {
             "outlinewidth": 0,
             "ticks": ""
            },
            "colorscale": [
             [
              0,
              "#0d0887"
             ],
             [
              0.1111111111111111,
              "#46039f"
             ],
             [
              0.2222222222222222,
              "#7201a8"
             ],
             [
              0.3333333333333333,
              "#9c179e"
             ],
             [
              0.4444444444444444,
              "#bd3786"
             ],
             [
              0.5555555555555556,
              "#d8576b"
             ],
             [
              0.6666666666666666,
              "#ed7953"
             ],
             [
              0.7777777777777778,
              "#fb9f3a"
             ],
             [
              0.8888888888888888,
              "#fdca26"
             ],
             [
              1,
              "#f0f921"
             ]
            ],
            "type": "histogram2d"
           }
          ],
          "histogram2dcontour": [
           {
            "colorbar": {
             "outlinewidth": 0,
             "ticks": ""
            },
            "colorscale": [
             [
              0,
              "#0d0887"
             ],
             [
              0.1111111111111111,
              "#46039f"
             ],
             [
              0.2222222222222222,
              "#7201a8"
             ],
             [
              0.3333333333333333,
              "#9c179e"
             ],
             [
              0.4444444444444444,
              "#bd3786"
             ],
             [
              0.5555555555555556,
              "#d8576b"
             ],
             [
              0.6666666666666666,
              "#ed7953"
             ],
             [
              0.7777777777777778,
              "#fb9f3a"
             ],
             [
              0.8888888888888888,
              "#fdca26"
             ],
             [
              1,
              "#f0f921"
             ]
            ],
            "type": "histogram2dcontour"
           }
          ],
          "mesh3d": [
           {
            "colorbar": {
             "outlinewidth": 0,
             "ticks": ""
            },
            "type": "mesh3d"
           }
          ],
          "parcoords": [
           {
            "line": {
             "colorbar": {
              "outlinewidth": 0,
              "ticks": ""
             }
            },
            "type": "parcoords"
           }
          ],
          "pie": [
           {
            "automargin": true,
            "type": "pie"
           }
          ],
          "scatter": [
           {
            "marker": {
             "colorbar": {
              "outlinewidth": 0,
              "ticks": ""
             }
            },
            "type": "scatter"
           }
          ],
          "scatter3d": [
           {
            "line": {
             "colorbar": {
              "outlinewidth": 0,
              "ticks": ""
             }
            },
            "marker": {
             "colorbar": {
              "outlinewidth": 0,
              "ticks": ""
             }
            },
            "type": "scatter3d"
           }
          ],
          "scattercarpet": [
           {
            "marker": {
             "colorbar": {
              "outlinewidth": 0,
              "ticks": ""
             }
            },
            "type": "scattercarpet"
           }
          ],
          "scattergeo": [
           {
            "marker": {
             "colorbar": {
              "outlinewidth": 0,
              "ticks": ""
             }
            },
            "type": "scattergeo"
           }
          ],
          "scattergl": [
           {
            "marker": {
             "colorbar": {
              "outlinewidth": 0,
              "ticks": ""
             }
            },
            "type": "scattergl"
           }
          ],
          "scattermapbox": [
           {
            "marker": {
             "colorbar": {
              "outlinewidth": 0,
              "ticks": ""
             }
            },
            "type": "scattermapbox"
           }
          ],
          "scatterpolar": [
           {
            "marker": {
             "colorbar": {
              "outlinewidth": 0,
              "ticks": ""
             }
            },
            "type": "scatterpolar"
           }
          ],
          "scatterpolargl": [
           {
            "marker": {
             "colorbar": {
              "outlinewidth": 0,
              "ticks": ""
             }
            },
            "type": "scatterpolargl"
           }
          ],
          "scatterternary": [
           {
            "marker": {
             "colorbar": {
              "outlinewidth": 0,
              "ticks": ""
             }
            },
            "type": "scatterternary"
           }
          ],
          "surface": [
           {
            "colorbar": {
             "outlinewidth": 0,
             "ticks": ""
            },
            "colorscale": [
             [
              0,
              "#0d0887"
             ],
             [
              0.1111111111111111,
              "#46039f"
             ],
             [
              0.2222222222222222,
              "#7201a8"
             ],
             [
              0.3333333333333333,
              "#9c179e"
             ],
             [
              0.4444444444444444,
              "#bd3786"
             ],
             [
              0.5555555555555556,
              "#d8576b"
             ],
             [
              0.6666666666666666,
              "#ed7953"
             ],
             [
              0.7777777777777778,
              "#fb9f3a"
             ],
             [
              0.8888888888888888,
              "#fdca26"
             ],
             [
              1,
              "#f0f921"
             ]
            ],
            "type": "surface"
           }
          ],
          "table": [
           {
            "cells": {
             "fill": {
              "color": "#EBF0F8"
             },
             "line": {
              "color": "white"
             }
            },
            "header": {
             "fill": {
              "color": "#C8D4E3"
             },
             "line": {
              "color": "white"
             }
            },
            "type": "table"
           }
          ]
         },
         "layout": {
          "annotationdefaults": {
           "arrowcolor": "#2a3f5f",
           "arrowhead": 0,
           "arrowwidth": 1
          },
          "coloraxis": {
           "colorbar": {
            "outlinewidth": 0,
            "ticks": ""
           }
          },
          "colorscale": {
           "diverging": [
            [
             0,
             "#8e0152"
            ],
            [
             0.1,
             "#c51b7d"
            ],
            [
             0.2,
             "#de77ae"
            ],
            [
             0.3,
             "#f1b6da"
            ],
            [
             0.4,
             "#fde0ef"
            ],
            [
             0.5,
             "#f7f7f7"
            ],
            [
             0.6,
             "#e6f5d0"
            ],
            [
             0.7,
             "#b8e186"
            ],
            [
             0.8,
             "#7fbc41"
            ],
            [
             0.9,
             "#4d9221"
            ],
            [
             1,
             "#276419"
            ]
           ],
           "sequential": [
            [
             0,
             "#0d0887"
            ],
            [
             0.1111111111111111,
             "#46039f"
            ],
            [
             0.2222222222222222,
             "#7201a8"
            ],
            [
             0.3333333333333333,
             "#9c179e"
            ],
            [
             0.4444444444444444,
             "#bd3786"
            ],
            [
             0.5555555555555556,
             "#d8576b"
            ],
            [
             0.6666666666666666,
             "#ed7953"
            ],
            [
             0.7777777777777778,
             "#fb9f3a"
            ],
            [
             0.8888888888888888,
             "#fdca26"
            ],
            [
             1,
             "#f0f921"
            ]
           ],
           "sequentialminus": [
            [
             0,
             "#0d0887"
            ],
            [
             0.1111111111111111,
             "#46039f"
            ],
            [
             0.2222222222222222,
             "#7201a8"
            ],
            [
             0.3333333333333333,
             "#9c179e"
            ],
            [
             0.4444444444444444,
             "#bd3786"
            ],
            [
             0.5555555555555556,
             "#d8576b"
            ],
            [
             0.6666666666666666,
             "#ed7953"
            ],
            [
             0.7777777777777778,
             "#fb9f3a"
            ],
            [
             0.8888888888888888,
             "#fdca26"
            ],
            [
             1,
             "#f0f921"
            ]
           ]
          },
          "colorway": [
           "#636efa",
           "#EF553B",
           "#00cc96",
           "#ab63fa",
           "#FFA15A",
           "#19d3f3",
           "#FF6692",
           "#B6E880",
           "#FF97FF",
           "#FECB52"
          ],
          "font": {
           "color": "#2a3f5f"
          },
          "geo": {
           "bgcolor": "white",
           "lakecolor": "white",
           "landcolor": "#E5ECF6",
           "showlakes": true,
           "showland": true,
           "subunitcolor": "white"
          },
          "hoverlabel": {
           "align": "left"
          },
          "hovermode": "closest",
          "mapbox": {
           "style": "light"
          },
          "paper_bgcolor": "white",
          "plot_bgcolor": "#E5ECF6",
          "polar": {
           "angularaxis": {
            "gridcolor": "white",
            "linecolor": "white",
            "ticks": ""
           },
           "bgcolor": "#E5ECF6",
           "radialaxis": {
            "gridcolor": "white",
            "linecolor": "white",
            "ticks": ""
           }
          },
          "scene": {
           "xaxis": {
            "backgroundcolor": "#E5ECF6",
            "gridcolor": "white",
            "gridwidth": 2,
            "linecolor": "white",
            "showbackground": true,
            "ticks": "",
            "zerolinecolor": "white"
           },
           "yaxis": {
            "backgroundcolor": "#E5ECF6",
            "gridcolor": "white",
            "gridwidth": 2,
            "linecolor": "white",
            "showbackground": true,
            "ticks": "",
            "zerolinecolor": "white"
           },
           "zaxis": {
            "backgroundcolor": "#E5ECF6",
            "gridcolor": "white",
            "gridwidth": 2,
            "linecolor": "white",
            "showbackground": true,
            "ticks": "",
            "zerolinecolor": "white"
           }
          },
          "shapedefaults": {
           "line": {
            "color": "#2a3f5f"
           }
          },
          "ternary": {
           "aaxis": {
            "gridcolor": "white",
            "linecolor": "white",
            "ticks": ""
           },
           "baxis": {
            "gridcolor": "white",
            "linecolor": "white",
            "ticks": ""
           },
           "bgcolor": "#E5ECF6",
           "caxis": {
            "gridcolor": "white",
            "linecolor": "white",
            "ticks": ""
           }
          },
          "title": {
           "x": 0.05
          },
          "xaxis": {
           "automargin": true,
           "gridcolor": "white",
           "linecolor": "white",
           "ticks": "",
           "title": {
            "standoff": 15
           },
           "zerolinecolor": "white",
           "zerolinewidth": 2
          },
          "yaxis": {
           "automargin": true,
           "gridcolor": "white",
           "linecolor": "white",
           "ticks": "",
           "title": {
            "standoff": 15
           },
           "zerolinecolor": "white",
           "zerolinewidth": 2
          }
         }
        },
        "title": {
         "text": "COVID19 Cases<br>(Hover for breakdown)"
        }
       }
      },
      "text/html": [
       "<div>\n",
       "        \n",
       "        \n",
       "            <div id=\"cec6d6c5-50b0-4589-9f6f-245d7e3ce14d\" class=\"plotly-graph-div\" style=\"height:525px; width:100%;\"></div>\n",
       "            <script type=\"text/javascript\">\n",
       "                require([\"plotly\"], function(Plotly) {\n",
       "                    window.PLOTLYENV=window.PLOTLYENV || {};\n",
       "                    \n",
       "                if (document.getElementById(\"cec6d6c5-50b0-4589-9f6f-245d7e3ce14d\")) {\n",
       "                    Plotly.newPlot(\n",
       "                        'cec6d6c5-50b0-4589-9f6f-245d7e3ce14d',\n",
       "                        [{\"coloraxis\": \"coloraxis\", \"customdata\": [[906.0, 30.0], [539.0, 26.0], [2418.0, 364.0], [696.0, 35.0], [19.0, 2.0], [23.0, 3.0], [2669.0, 123.0], [1201.0, 19.0], [6522.0, 66.0], [14595.0, 431.0], [1340.0, 15.0], [54.0, 9.0], [1740.0, 7.0], [1838.0, 75.0], [75.0, 5.0], [4779.0, 42.0], [36138.0, 5163.0], [35.0, 1.0], [5.0, 0.0], [465.0, 31.0], [1214.0, 46.0], [33682.0, 2141.0], [136.0, 1.0], [846.0, 41.0], [557.0, 35.0], [56.0, 1.0], [122.0, 0.0], [996.0, 22.0], [32813.0, 1354.0], [12.0, 0.0], [27.0, 0.0], [9252.0, 116.0], [83760.0, 4636.0], [3439.0, 153.0], [143.0, 6.0], [287.0, 23.0], [649.0, 4.0], [688.0, 6.0], [1814.0, 36.0], [712.0, 13.0], [923.0, 31.0], [750.0, 12.0], [6549.0, 173.0], [7268.0, 336.0], [732.0, 2.0], [4126.0, 200.0], [8450.0, 421.0], [2844.0, 205.0], [177.0, 7.0], [79.0, 0.0], [35.0, 0.0], [1459.0, 38.0], [16.0, 1.0], [96.0, 3.0], [17.0, 0.0], [3489.0, 82.0], [149130.0, 18703.0], [108.0, 1.0], [9.0, 1.0], [370.0, 3.0], [141397.0, 4352.0], [641.0, 8.0], [2224.0, 108.0], [214.0, 7.0], [477.0, 3.0], [63.0, 6.0], [43.0, 3.0], [8.0, 0.0], [442.0, 41.0], [1763.0, 156.0], [1754.0, 9.0], [14352.0, 486.0], [5923.0, 520.0], [79494.0, 4958.0], [1482.0, 81.0], [13980.0, 530.0], [12982.0, 151.0], [172434.0, 22745.0], [143.0, 5.0], [9787.0, 190.0], [407.0, 7.0], [1546.0, 17.0], [246.0, 11.0], [10635.0, 230.0], [1658.0, 5.0], [489.0, 5.0], [682.0, 5.0], [668.0, 21.0], [76.0, 7.0], [79.0, 1.0], [1149.0, 33.0], [3480.0, 72.0], [117.0, 0.0], [5251.0, 86.0], [28.0, 0.0], [422.0, 3.0], [7.0, 1.0], [324.0, 9.0], [6297.0, 486.0], [2264.0, 56.0], [94.0, 3.0], [31.0, 0.0], [303.0, 5.0], [2564.0, 135.0], [16.0, 0.0], [30.0, 0.0], [30619.0, 3471.0], [1409.0, 11.0], [9.0, 1.0], [627.0, 18.0], [493.0, 17.0], [1117.0, 49.0], [6937.0, 161.0], [1069.0, 6.0], [7025.0, 135.0], [4016.0, 109.0], [7.0, 0.0], [199.0, 8.0], [13489.0, 300.0], [5878.0, 387.0], [8379.0, 332.0], [19022.0, 657.0], [4663.0, 7.0], [8067.0, 411.0], [32008.0, 273.0], [143.0, 0.0], [15.0, 0.0], [12.0, 0.0], [435.0, 39.0], [7142.0, 87.0], [342.0, 2.0], [5690.0, 110.0], [11.0, 0.0], [5050.0, 11.0], [1049.0, 9.0], [1304.0, 66.0], [116.0, 6.0], [2783.0, 50.0], [190839.0, 20002.0], [244.0, 7.0], [33.0, 6.0], [10.0, 1.0], [13216.0, 1400.0], [27078.0, 1327.0], [395.0, 6.0], [147.0, 5.0], [2700.0, 47.0], [83.0, 5.0], [114.0, 8.0], [864.0, 37.0], [78546.0, 1769.0], [56.0, 0.0], [4662.0, 125.0], [6302.0, 37.0], [109769.0, 14607.0], [502.0, 9.0], [699706.0, 36773.0], [1405.0, 4.0], [204.0, 9.0], [268.0, 0.0], [52.0, 2.0], [24.0, 3.0], [16.0, 0.0], [14.0, 0.0], [34.0, 0.0], [38.0, 2.0], [18.0, 0.0], [18.0, 2.0], [19.0, 0.0], [49.0, 1.0], [402.0, 2.0], [43.0, 0.0], [171.0, 13.0], [14.0, 0.0], [480.0, 12.0], [88.0, 4.0], [9.0, 2.0], [15.0, 1.0], [5.0, 1.0], [26.0, 0.0], [17.0, 2.0], [4.0, 0.0], [6.0, 0.0], [4.0, 0.0], [1.0, 0.0]], \"geo\": \"geo\", \"hovertemplate\": \"Confirmed Cases=%{z}<br>Death Cases=%{customdata[1]}<br>Country=%{location}<extra></extra>\", \"locationmode\": \"country names\", \"locations\": [\"Afghanistan\", \"Albania\", \"Algeria\", \"Andorra\", \"Angola\", \"Antigua and Barbuda\", \"Argentina\", \"Armenia\", \"Australia\", \"Austria\", \"Azerbaijan\", \"Bahamas\", \"Bahrain\", \"Bangladesh\", \"Barbados\", \"Belarus\", \"Belgium\", \"Benin\", \"Bhutan\", \"Bolivia\", \"Bosnia and Herzegovina\", \"Brazil\", \"Brunei\", \"Bulgaria\", \"Burkina Faso\", \"Cabo Verde\", \"Cambodia\", \"Cameroon\", \"Canada\", \"Central African Republic\", \"Chad\", \"Chile\", \"China\", \"Colombia\", \"Congo (Brazzaville)\", \"Congo (Kinshasa)\", \"Costa Rica\", \"Cote d'Ivoire\", \"Croatia\", \"Diamond Princess\", \"Cuba\", \"Cyprus\", \"Czechia\", \"Denmark\", \"Djibouti\", \"Dominican Republic\", \"Ecuador\", \"Egypt\", \"El Salvador\", \"Equatorial Guinea\", \"Eritrea\", \"Estonia\", \"Eswatini\", \"Ethiopia\", \"Fiji\", \"Finland\", \"France\", \"Gabon\", \"Gambia\", \"Georgia\", \"Germany\", \"Ghana\", \"Greece\", \"Guatemala\", \"Guinea\", \"Guyana\", \"Haiti\", \"Holy See\", \"Honduras\", \"Hungary\", \"Iceland\", \"India\", \"Indonesia\", \"Iran\", \"Iraq\", \"Ireland\", \"Israel\", \"Italy\", \"Jamaica\", \"Japan\", \"Jordan\", \"Kazakhstan\", \"Kenya\", \"Korea, South\", \"Kuwait\", \"Kyrgyzstan\", \"Latvia\", \"Lebanon\", \"Liberia\", \"Liechtenstein\", \"Lithuania\", \"Luxembourg\", \"Madagascar\", \"Malaysia\", \"Maldives\", \"Malta\", \"Mauritania\", \"Mauritius\", \"Mexico\", \"Moldova\", \"Monaco\", \"Mongolia\", \"Montenegro\", \"Morocco\", \"Namibia\", \"Nepal\", \"Netherlands\", \"New Zealand\", \"Nicaragua\", \"Niger\", \"Nigeria\", \"North Macedonia\", \"Norway\", \"Oman\", \"Pakistan\", \"Panama\", \"Papua New Guinea\", \"Paraguay\", \"Peru\", \"Philippines\", \"Poland\", \"Portugal\", \"Qatar\", \"Romania\", \"Russia\", \"Rwanda\", \"Saint Lucia\", \"Saint Vincent and the Grenadines\", \"San Marino\", \"Saudi Arabia\", \"Senegal\", \"Serbia\", \"Seychelles\", \"Singapore\", \"Slovakia\", \"Slovenia\", \"Somalia\", \"South Africa\", \"Spain\", \"Sri Lanka\", \"Sudan\", \"Suriname\", \"Sweden\", \"Switzerland\", \"Taiwan*\", \"Tanzania\", \"Thailand\", \"Togo\", \"Trinidad and Tobago\", \"Tunisia\", \"Turkey\", \"Uganda\", \"Ukraine\", \"United Arab Emirates\", \"United Kingdom\", \"Uruguay\", \"US\", \"Uzbekistan\", \"Venezuela\", \"Vietnam\", \"Zambia\", \"Zimbabwe\", \"Dominica\", \"Grenada\", \"Mozambique\", \"Syria\", \"Timor-Leste\", \"Belize\", \"Laos\", \"Libya\", \"West Bank and Gaza\", \"Guinea-Bissau\", \"Mali\", \"Saint Kitts and Nevis\", \"Kosovo\", \"Burma\", \"MS Zaandam\", \"Botswana\", \"Burundi\", \"Sierra Leone\", \"Malawi\", \"South Sudan\", \"Western Sahara\", \"Sao Tome and Principe\", \"Yemen\"], \"name\": \"\", \"type\": \"choropleth\", \"z\": [906.0, 539.0, 2418.0, 696.0, 19.0, 23.0, 2669.0, 1201.0, 6522.0, 14595.0, 1340.0, 54.0, 1740.0, 1838.0, 75.0, 4779.0, 36138.0, 35.0, 5.0, 465.0, 1214.0, 33682.0, 136.0, 846.0, 557.0, 56.0, 122.0, 996.0, 32813.0, 12.0, 27.0, 9252.0, 83760.0, 3439.0, 143.0, 287.0, 649.0, 688.0, 1814.0, 712.0, 923.0, 750.0, 6549.0, 7268.0, 732.0, 4126.0, 8450.0, 2844.0, 177.0, 79.0, 35.0, 1459.0, 16.0, 96.0, 17.0, 3489.0, 149130.0, 108.0, 9.0, 370.0, 141397.0, 641.0, 2224.0, 214.0, 477.0, 63.0, 43.0, 8.0, 442.0, 1763.0, 1754.0, 14352.0, 5923.0, 79494.0, 1482.0, 13980.0, 12982.0, 172434.0, 143.0, 9787.0, 407.0, 1546.0, 246.0, 10635.0, 1658.0, 489.0, 682.0, 668.0, 76.0, 79.0, 1149.0, 3480.0, 117.0, 5251.0, 28.0, 422.0, 7.0, 324.0, 6297.0, 2264.0, 94.0, 31.0, 303.0, 2564.0, 16.0, 30.0, 30619.0, 1409.0, 9.0, 627.0, 493.0, 1117.0, 6937.0, 1069.0, 7025.0, 4016.0, 7.0, 199.0, 13489.0, 5878.0, 8379.0, 19022.0, 4663.0, 8067.0, 32008.0, 143.0, 15.0, 12.0, 435.0, 7142.0, 342.0, 5690.0, 11.0, 5050.0, 1049.0, 1304.0, 116.0, 2783.0, 190839.0, 244.0, 33.0, 10.0, 13216.0, 27078.0, 395.0, 147.0, 2700.0, 83.0, 114.0, 864.0, 78546.0, 56.0, 4662.0, 6302.0, 109769.0, 502.0, 699706.0, 1405.0, 204.0, 268.0, 52.0, 24.0, 16.0, 14.0, 34.0, 38.0, 18.0, 18.0, 19.0, 49.0, 402.0, 43.0, 171.0, 14.0, 480.0, 88.0, 9.0, 15.0, 5.0, 26.0, 17.0, 4.0, 6.0, 4.0, 1.0]}],\n",
       "                        {\"coloraxis\": {\"colorbar\": {\"title\": {\"text\": \"Confirmed Cases\"}}, \"colorscale\": [[0.0, \"#440154\"], [0.1111111111111111, \"#482878\"], [0.2222222222222222, \"#3e4989\"], [0.3333333333333333, \"#31688e\"], [0.4444444444444444, \"#26828e\"], [0.5555555555555556, \"#1f9e89\"], [0.6666666666666666, \"#35b779\"], [0.7777777777777778, \"#6ece58\"], [0.8888888888888888, \"#b5de2b\"], [1.0, \"#fde725\"]]}, \"geo\": {\"center\": {}, \"domain\": {\"x\": [0.0, 1.0], \"y\": [0.0, 1.0]}, \"fitbounds\": \"locations\", \"visible\": false}, \"legend\": {\"tracegroupgap\": 0}, \"margin\": {\"b\": 0, \"l\": 0, \"r\": 0, \"t\": 100}, \"template\": {\"data\": {\"bar\": [{\"error_x\": {\"color\": \"#2a3f5f\"}, \"error_y\": {\"color\": \"#2a3f5f\"}, \"marker\": {\"line\": {\"color\": \"#E5ECF6\", \"width\": 0.5}}, \"type\": \"bar\"}], \"barpolar\": [{\"marker\": {\"line\": {\"color\": \"#E5ECF6\", \"width\": 0.5}}, \"type\": \"barpolar\"}], \"carpet\": [{\"aaxis\": {\"endlinecolor\": \"#2a3f5f\", \"gridcolor\": \"white\", \"linecolor\": \"white\", \"minorgridcolor\": \"white\", \"startlinecolor\": \"#2a3f5f\"}, \"baxis\": {\"endlinecolor\": \"#2a3f5f\", \"gridcolor\": \"white\", \"linecolor\": \"white\", \"minorgridcolor\": \"white\", \"startlinecolor\": \"#2a3f5f\"}, \"type\": \"carpet\"}], \"choropleth\": [{\"colorbar\": {\"outlinewidth\": 0, \"ticks\": \"\"}, \"type\": \"choropleth\"}], \"contour\": [{\"colorbar\": {\"outlinewidth\": 0, \"ticks\": \"\"}, \"colorscale\": [[0.0, \"#0d0887\"], [0.1111111111111111, \"#46039f\"], [0.2222222222222222, \"#7201a8\"], [0.3333333333333333, \"#9c179e\"], [0.4444444444444444, \"#bd3786\"], [0.5555555555555556, \"#d8576b\"], [0.6666666666666666, \"#ed7953\"], [0.7777777777777778, \"#fb9f3a\"], [0.8888888888888888, \"#fdca26\"], [1.0, \"#f0f921\"]], \"type\": \"contour\"}], \"contourcarpet\": [{\"colorbar\": {\"outlinewidth\": 0, \"ticks\": \"\"}, \"type\": \"contourcarpet\"}], \"heatmap\": [{\"colorbar\": {\"outlinewidth\": 0, \"ticks\": \"\"}, \"colorscale\": [[0.0, \"#0d0887\"], [0.1111111111111111, \"#46039f\"], [0.2222222222222222, \"#7201a8\"], [0.3333333333333333, \"#9c179e\"], [0.4444444444444444, \"#bd3786\"], [0.5555555555555556, \"#d8576b\"], [0.6666666666666666, \"#ed7953\"], [0.7777777777777778, \"#fb9f3a\"], [0.8888888888888888, \"#fdca26\"], [1.0, \"#f0f921\"]], \"type\": \"heatmap\"}], \"heatmapgl\": [{\"colorbar\": {\"outlinewidth\": 0, \"ticks\": \"\"}, \"colorscale\": [[0.0, \"#0d0887\"], [0.1111111111111111, \"#46039f\"], [0.2222222222222222, \"#7201a8\"], [0.3333333333333333, \"#9c179e\"], [0.4444444444444444, \"#bd3786\"], [0.5555555555555556, \"#d8576b\"], [0.6666666666666666, \"#ed7953\"], [0.7777777777777778, \"#fb9f3a\"], [0.8888888888888888, \"#fdca26\"], [1.0, \"#f0f921\"]], \"type\": \"heatmapgl\"}], \"histogram\": [{\"marker\": {\"colorbar\": {\"outlinewidth\": 0, \"ticks\": \"\"}}, \"type\": \"histogram\"}], \"histogram2d\": [{\"colorbar\": {\"outlinewidth\": 0, \"ticks\": \"\"}, \"colorscale\": [[0.0, \"#0d0887\"], [0.1111111111111111, \"#46039f\"], [0.2222222222222222, \"#7201a8\"], [0.3333333333333333, \"#9c179e\"], [0.4444444444444444, \"#bd3786\"], [0.5555555555555556, \"#d8576b\"], [0.6666666666666666, \"#ed7953\"], [0.7777777777777778, \"#fb9f3a\"], [0.8888888888888888, \"#fdca26\"], [1.0, \"#f0f921\"]], \"type\": \"histogram2d\"}], \"histogram2dcontour\": [{\"colorbar\": {\"outlinewidth\": 0, \"ticks\": \"\"}, \"colorscale\": [[0.0, \"#0d0887\"], [0.1111111111111111, \"#46039f\"], [0.2222222222222222, \"#7201a8\"], [0.3333333333333333, \"#9c179e\"], [0.4444444444444444, \"#bd3786\"], [0.5555555555555556, \"#d8576b\"], [0.6666666666666666, \"#ed7953\"], [0.7777777777777778, \"#fb9f3a\"], [0.8888888888888888, \"#fdca26\"], [1.0, \"#f0f921\"]], \"type\": \"histogram2dcontour\"}], \"mesh3d\": [{\"colorbar\": {\"outlinewidth\": 0, \"ticks\": \"\"}, \"type\": \"mesh3d\"}], \"parcoords\": [{\"line\": {\"colorbar\": {\"outlinewidth\": 0, \"ticks\": \"\"}}, \"type\": \"parcoords\"}], \"pie\": [{\"automargin\": true, \"type\": \"pie\"}], \"scatter\": [{\"marker\": {\"colorbar\": {\"outlinewidth\": 0, \"ticks\": \"\"}}, \"type\": \"scatter\"}], \"scatter3d\": [{\"line\": {\"colorbar\": {\"outlinewidth\": 0, \"ticks\": \"\"}}, \"marker\": {\"colorbar\": {\"outlinewidth\": 0, \"ticks\": \"\"}}, \"type\": \"scatter3d\"}], \"scattercarpet\": [{\"marker\": {\"colorbar\": {\"outlinewidth\": 0, \"ticks\": \"\"}}, \"type\": \"scattercarpet\"}], \"scattergeo\": [{\"marker\": {\"colorbar\": {\"outlinewidth\": 0, \"ticks\": \"\"}}, \"type\": \"scattergeo\"}], \"scattergl\": [{\"marker\": {\"colorbar\": {\"outlinewidth\": 0, \"ticks\": \"\"}}, \"type\": \"scattergl\"}], \"scattermapbox\": [{\"marker\": {\"colorbar\": {\"outlinewidth\": 0, \"ticks\": \"\"}}, \"type\": \"scattermapbox\"}], \"scatterpolar\": [{\"marker\": {\"colorbar\": {\"outlinewidth\": 0, \"ticks\": \"\"}}, \"type\": \"scatterpolar\"}], \"scatterpolargl\": [{\"marker\": {\"colorbar\": {\"outlinewidth\": 0, \"ticks\": \"\"}}, \"type\": \"scatterpolargl\"}], \"scatterternary\": [{\"marker\": {\"colorbar\": {\"outlinewidth\": 0, \"ticks\": \"\"}}, \"type\": \"scatterternary\"}], \"surface\": [{\"colorbar\": {\"outlinewidth\": 0, \"ticks\": \"\"}, \"colorscale\": [[0.0, \"#0d0887\"], [0.1111111111111111, \"#46039f\"], [0.2222222222222222, \"#7201a8\"], [0.3333333333333333, \"#9c179e\"], [0.4444444444444444, \"#bd3786\"], [0.5555555555555556, \"#d8576b\"], [0.6666666666666666, \"#ed7953\"], [0.7777777777777778, \"#fb9f3a\"], [0.8888888888888888, \"#fdca26\"], [1.0, \"#f0f921\"]], \"type\": \"surface\"}], \"table\": [{\"cells\": {\"fill\": {\"color\": \"#EBF0F8\"}, \"line\": {\"color\": \"white\"}}, \"header\": {\"fill\": {\"color\": \"#C8D4E3\"}, \"line\": {\"color\": \"white\"}}, \"type\": \"table\"}]}, \"layout\": {\"annotationdefaults\": {\"arrowcolor\": \"#2a3f5f\", \"arrowhead\": 0, \"arrowwidth\": 1}, \"coloraxis\": {\"colorbar\": {\"outlinewidth\": 0, \"ticks\": \"\"}}, \"colorscale\": {\"diverging\": [[0, \"#8e0152\"], [0.1, \"#c51b7d\"], [0.2, \"#de77ae\"], [0.3, \"#f1b6da\"], [0.4, \"#fde0ef\"], [0.5, \"#f7f7f7\"], [0.6, \"#e6f5d0\"], [0.7, \"#b8e186\"], [0.8, \"#7fbc41\"], [0.9, \"#4d9221\"], [1, \"#276419\"]], \"sequential\": [[0.0, \"#0d0887\"], [0.1111111111111111, \"#46039f\"], [0.2222222222222222, \"#7201a8\"], [0.3333333333333333, \"#9c179e\"], [0.4444444444444444, \"#bd3786\"], [0.5555555555555556, \"#d8576b\"], [0.6666666666666666, \"#ed7953\"], [0.7777777777777778, \"#fb9f3a\"], [0.8888888888888888, \"#fdca26\"], [1.0, \"#f0f921\"]], \"sequentialminus\": [[0.0, \"#0d0887\"], [0.1111111111111111, \"#46039f\"], [0.2222222222222222, \"#7201a8\"], [0.3333333333333333, \"#9c179e\"], [0.4444444444444444, \"#bd3786\"], [0.5555555555555556, \"#d8576b\"], [0.6666666666666666, \"#ed7953\"], [0.7777777777777778, \"#fb9f3a\"], [0.8888888888888888, \"#fdca26\"], [1.0, \"#f0f921\"]]}, \"colorway\": [\"#636efa\", \"#EF553B\", \"#00cc96\", \"#ab63fa\", \"#FFA15A\", \"#19d3f3\", \"#FF6692\", \"#B6E880\", \"#FF97FF\", \"#FECB52\"], \"font\": {\"color\": \"#2a3f5f\"}, \"geo\": {\"bgcolor\": \"white\", \"lakecolor\": \"white\", \"landcolor\": \"#E5ECF6\", \"showlakes\": true, \"showland\": true, \"subunitcolor\": \"white\"}, \"hoverlabel\": {\"align\": \"left\"}, \"hovermode\": \"closest\", \"mapbox\": {\"style\": \"light\"}, \"paper_bgcolor\": \"white\", \"plot_bgcolor\": \"#E5ECF6\", \"polar\": {\"angularaxis\": {\"gridcolor\": \"white\", \"linecolor\": \"white\", \"ticks\": \"\"}, \"bgcolor\": \"#E5ECF6\", \"radialaxis\": {\"gridcolor\": \"white\", \"linecolor\": \"white\", \"ticks\": \"\"}}, \"scene\": {\"xaxis\": {\"backgroundcolor\": \"#E5ECF6\", \"gridcolor\": \"white\", \"gridwidth\": 2, \"linecolor\": \"white\", \"showbackground\": true, \"ticks\": \"\", \"zerolinecolor\": \"white\"}, \"yaxis\": {\"backgroundcolor\": \"#E5ECF6\", \"gridcolor\": \"white\", \"gridwidth\": 2, \"linecolor\": \"white\", \"showbackground\": true, \"ticks\": \"\", \"zerolinecolor\": \"white\"}, \"zaxis\": {\"backgroundcolor\": \"#E5ECF6\", \"gridcolor\": \"white\", \"gridwidth\": 2, \"linecolor\": \"white\", \"showbackground\": true, \"ticks\": \"\", \"zerolinecolor\": \"white\"}}, \"shapedefaults\": {\"line\": {\"color\": \"#2a3f5f\"}}, \"ternary\": {\"aaxis\": {\"gridcolor\": \"white\", \"linecolor\": \"white\", \"ticks\": \"\"}, \"baxis\": {\"gridcolor\": \"white\", \"linecolor\": \"white\", \"ticks\": \"\"}, \"bgcolor\": \"#E5ECF6\", \"caxis\": {\"gridcolor\": \"white\", \"linecolor\": \"white\", \"ticks\": \"\"}}, \"title\": {\"x\": 0.05}, \"xaxis\": {\"automargin\": true, \"gridcolor\": \"white\", \"linecolor\": \"white\", \"ticks\": \"\", \"title\": {\"standoff\": 15}, \"zerolinecolor\": \"white\", \"zerolinewidth\": 2}, \"yaxis\": {\"automargin\": true, \"gridcolor\": \"white\", \"linecolor\": \"white\", \"ticks\": \"\", \"title\": {\"standoff\": 15}, \"zerolinecolor\": \"white\", \"zerolinewidth\": 2}}}, \"title\": {\"text\": \"COVID19 Cases<br>(Hover for breakdown)\"}},\n",
       "                        {\"responsive\": true}\n",
       "                    ).then(function(){\n",
       "                            \n",
       "var gd = document.getElementById('cec6d6c5-50b0-4589-9f6f-245d7e3ce14d');\n",
       "var x = new MutationObserver(function (mutations, observer) {{\n",
       "        var display = window.getComputedStyle(gd).display;\n",
       "        if (!display || display === 'none') {{\n",
       "            console.log([gd, 'removed!']);\n",
       "            Plotly.purge(gd);\n",
       "            observer.disconnect();\n",
       "        }}\n",
       "}});\n",
       "\n",
       "// Listen for the removal of the full notebook cells\n",
       "var notebookContainer = gd.closest('#notebook-container');\n",
       "if (notebookContainer) {{\n",
       "    x.observe(notebookContainer, {childList: true});\n",
       "}}\n",
       "\n",
       "// Listen for the clearing of the current output cell\n",
       "var outputEl = gd.closest('.output');\n",
       "if (outputEl) {{\n",
       "    x.observe(outputEl, {childList: true});\n",
       "}}\n",
       "\n",
       "                        })\n",
       "                };\n",
       "                });\n",
       "            </script>\n",
       "        </div>"
      ]
     },
     "metadata": {},
     "output_type": "display_data"
    }
   ],
   "source": [
    "fig.update_geos(fitbounds=\"locations\", visible=False)\n",
    "fig.update_layout(title_text='COVID19 Cases<br>(Hover for breakdown)',\n",
    "                  margin={\"r\":0,\"t\":100,\"l\":0,\"b\":0})\n",
    "fig.show()"
   ]
  },
  {
   "cell_type": "code",
   "execution_count": null,
   "metadata": {},
   "outputs": [],
   "source": []
  }
 ],
 "metadata": {
  "kernelspec": {
   "display_name": "Python 3",
   "language": "python",
   "name": "python3"
  },
  "language_info": {
   "codemirror_mode": {
    "name": "ipython",
    "version": 3
   },
   "file_extension": ".py",
   "mimetype": "text/x-python",
   "name": "python",
   "nbconvert_exporter": "python",
   "pygments_lexer": "ipython3",
   "version": "3.7.4"
  }
 },
 "nbformat": 4,
 "nbformat_minor": 2
}
